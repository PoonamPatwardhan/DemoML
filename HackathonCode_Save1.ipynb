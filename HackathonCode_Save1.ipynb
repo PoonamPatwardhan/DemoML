{
 "cells": [
  {
   "cell_type": "code",
   "execution_count": 528,
   "metadata": {},
   "outputs": [],
   "source": [
    "import pandas as pd\n",
    "import numpy as np\n",
    "import matplotlib.pyplot as plt\n",
    "import os\n",
    "import seaborn as sns"
   ]
  },
  {
   "cell_type": "code",
   "execution_count": 529,
   "metadata": {},
   "outputs": [],
   "source": [
    "from sklearn.model_selection import train_test_split\n",
    "from sklearn.ensemble import RandomForestClassifier\n",
    "from sklearn.tree import DecisionTreeClassifier\n",
    "from sklearn.svm import SVC\n",
    "from sklearn.metrics import confusion_matrix\n",
    "from sklearn.metrics import precision_score,recall_score,roc_auc_score,mean_absolute_error\n",
    "from sklearn.preprocessing import StandardScaler, OneHotEncoder, LabelEncoder"
   ]
  },
  {
   "cell_type": "code",
   "execution_count": 530,
   "metadata": {},
   "outputs": [],
   "source": [
    "train_data = pd.read_csv('./Desktop/train_data/train.csv')\n",
    "customer_data = pd.read_csv('./Desktop/train_data/customer_demographics.csv')\n",
    "transaction_data = pd.read_csv('./Desktop/train_data/customer_transaction_data.csv')\n",
    "coupon_item_data = pd.read_csv('./Desktop/train_data/coupon_item_mapping.csv')\n",
    "campaign_data = pd.read_csv('./Desktop/train_data/campaign_data.csv')\n",
    "item_data = pd.read_csv('./Desktop/train_data/item_data.csv')"
   ]
  },
  {
   "cell_type": "code",
   "execution_count": 531,
   "metadata": {},
   "outputs": [
    {
     "data": {
      "text/html": [
       "<div>\n",
       "<style scoped>\n",
       "    .dataframe tbody tr th:only-of-type {\n",
       "        vertical-align: middle;\n",
       "    }\n",
       "\n",
       "    .dataframe tbody tr th {\n",
       "        vertical-align: top;\n",
       "    }\n",
       "\n",
       "    .dataframe thead th {\n",
       "        text-align: right;\n",
       "    }\n",
       "</style>\n",
       "<table border=\"1\" class=\"dataframe\">\n",
       "  <thead>\n",
       "    <tr style=\"text-align: right;\">\n",
       "      <th></th>\n",
       "      <th>id</th>\n",
       "      <th>campaign_id</th>\n",
       "      <th>coupon_id</th>\n",
       "      <th>customer_id</th>\n",
       "      <th>redemption_status</th>\n",
       "    </tr>\n",
       "  </thead>\n",
       "  <tbody>\n",
       "    <tr>\n",
       "      <td>0</td>\n",
       "      <td>1</td>\n",
       "      <td>13</td>\n",
       "      <td>27</td>\n",
       "      <td>1053</td>\n",
       "      <td>0</td>\n",
       "    </tr>\n",
       "    <tr>\n",
       "      <td>1</td>\n",
       "      <td>2</td>\n",
       "      <td>13</td>\n",
       "      <td>116</td>\n",
       "      <td>48</td>\n",
       "      <td>0</td>\n",
       "    </tr>\n",
       "    <tr>\n",
       "      <td>2</td>\n",
       "      <td>6</td>\n",
       "      <td>9</td>\n",
       "      <td>635</td>\n",
       "      <td>205</td>\n",
       "      <td>0</td>\n",
       "    </tr>\n",
       "    <tr>\n",
       "      <td>3</td>\n",
       "      <td>7</td>\n",
       "      <td>13</td>\n",
       "      <td>644</td>\n",
       "      <td>1050</td>\n",
       "      <td>0</td>\n",
       "    </tr>\n",
       "    <tr>\n",
       "      <td>4</td>\n",
       "      <td>9</td>\n",
       "      <td>8</td>\n",
       "      <td>1017</td>\n",
       "      <td>1489</td>\n",
       "      <td>0</td>\n",
       "    </tr>\n",
       "  </tbody>\n",
       "</table>\n",
       "</div>"
      ],
      "text/plain": [
       "   id  campaign_id  coupon_id  customer_id  redemption_status\n",
       "0   1           13         27         1053                  0\n",
       "1   2           13        116           48                  0\n",
       "2   6            9        635          205                  0\n",
       "3   7           13        644         1050                  0\n",
       "4   9            8       1017         1489                  0"
      ]
     },
     "execution_count": 531,
     "metadata": {},
     "output_type": "execute_result"
    }
   ],
   "source": [
    "train_data.head()"
   ]
  },
  {
   "cell_type": "code",
   "execution_count": 532,
   "metadata": {},
   "outputs": [
    {
     "data": {
      "text/html": [
       "<div>\n",
       "<style scoped>\n",
       "    .dataframe tbody tr th:only-of-type {\n",
       "        vertical-align: middle;\n",
       "    }\n",
       "\n",
       "    .dataframe tbody tr th {\n",
       "        vertical-align: top;\n",
       "    }\n",
       "\n",
       "    .dataframe thead th {\n",
       "        text-align: right;\n",
       "    }\n",
       "</style>\n",
       "<table border=\"1\" class=\"dataframe\">\n",
       "  <thead>\n",
       "    <tr style=\"text-align: right;\">\n",
       "      <th></th>\n",
       "      <th>customer_id</th>\n",
       "      <th>age_range</th>\n",
       "      <th>marital_status</th>\n",
       "      <th>rented</th>\n",
       "      <th>family_size</th>\n",
       "      <th>no_of_children</th>\n",
       "      <th>income_bracket</th>\n",
       "    </tr>\n",
       "  </thead>\n",
       "  <tbody>\n",
       "    <tr>\n",
       "      <td>0</td>\n",
       "      <td>1</td>\n",
       "      <td>70+</td>\n",
       "      <td>Married</td>\n",
       "      <td>0</td>\n",
       "      <td>2</td>\n",
       "      <td>NaN</td>\n",
       "      <td>4</td>\n",
       "    </tr>\n",
       "    <tr>\n",
       "      <td>1</td>\n",
       "      <td>6</td>\n",
       "      <td>46-55</td>\n",
       "      <td>Married</td>\n",
       "      <td>0</td>\n",
       "      <td>2</td>\n",
       "      <td>NaN</td>\n",
       "      <td>5</td>\n",
       "    </tr>\n",
       "    <tr>\n",
       "      <td>2</td>\n",
       "      <td>7</td>\n",
       "      <td>26-35</td>\n",
       "      <td>NaN</td>\n",
       "      <td>0</td>\n",
       "      <td>3</td>\n",
       "      <td>1</td>\n",
       "      <td>3</td>\n",
       "    </tr>\n",
       "    <tr>\n",
       "      <td>3</td>\n",
       "      <td>8</td>\n",
       "      <td>26-35</td>\n",
       "      <td>NaN</td>\n",
       "      <td>0</td>\n",
       "      <td>4</td>\n",
       "      <td>2</td>\n",
       "      <td>6</td>\n",
       "    </tr>\n",
       "    <tr>\n",
       "      <td>4</td>\n",
       "      <td>10</td>\n",
       "      <td>46-55</td>\n",
       "      <td>Single</td>\n",
       "      <td>0</td>\n",
       "      <td>1</td>\n",
       "      <td>NaN</td>\n",
       "      <td>5</td>\n",
       "    </tr>\n",
       "  </tbody>\n",
       "</table>\n",
       "</div>"
      ],
      "text/plain": [
       "   customer_id age_range marital_status  rented family_size no_of_children  \\\n",
       "0            1       70+        Married       0           2            NaN   \n",
       "1            6     46-55        Married       0           2            NaN   \n",
       "2            7     26-35            NaN       0           3              1   \n",
       "3            8     26-35            NaN       0           4              2   \n",
       "4           10     46-55         Single       0           1            NaN   \n",
       "\n",
       "   income_bracket  \n",
       "0               4  \n",
       "1               5  \n",
       "2               3  \n",
       "3               6  \n",
       "4               5  "
      ]
     },
     "execution_count": 532,
     "metadata": {},
     "output_type": "execute_result"
    }
   ],
   "source": [
    "customer_data.head()"
   ]
  },
  {
   "cell_type": "code",
   "execution_count": 533,
   "metadata": {},
   "outputs": [],
   "source": [
    "train_customer_merged = pd.merge(train_data,customer_data, on=['customer_id'])"
   ]
  },
  {
   "cell_type": "code",
   "execution_count": 534,
   "metadata": {},
   "outputs": [
    {
     "data": {
      "text/plain": [
       "1428"
      ]
     },
     "execution_count": 534,
     "metadata": {},
     "output_type": "execute_result"
    }
   ],
   "source": [
    "train_data['customer_id'].nunique()"
   ]
  },
  {
   "cell_type": "code",
   "execution_count": 535,
   "metadata": {},
   "outputs": [
    {
     "name": "stdout",
     "output_type": "stream",
     "text": [
      "(78369, 5)\n",
      "(760, 7)\n",
      "(43661, 11)\n"
     ]
    }
   ],
   "source": [
    "print(train_data.shape)\n",
    "print(customer_data.shape)\n",
    "print(train_customer_merged.shape)\n"
   ]
  },
  {
   "cell_type": "code",
   "execution_count": 536,
   "metadata": {},
   "outputs": [
    {
     "data": {
      "text/plain": [
       "760"
      ]
     },
     "execution_count": 536,
     "metadata": {},
     "output_type": "execute_result"
    }
   ],
   "source": [
    "customer_data['customer_id'].nunique()"
   ]
  },
  {
   "cell_type": "code",
   "execution_count": 537,
   "metadata": {},
   "outputs": [
    {
     "data": {
      "text/plain": [
       "703"
      ]
     },
     "execution_count": 537,
     "metadata": {},
     "output_type": "execute_result"
    }
   ],
   "source": [
    "train_customer_merged['customer_id'].nunique()"
   ]
  },
  {
   "cell_type": "code",
   "execution_count": 538,
   "metadata": {},
   "outputs": [],
   "source": [
    "train_data_d =  train_customer_merged.drop_duplicates(subset=['customer_id'])"
   ]
  },
  {
   "cell_type": "code",
   "execution_count": 539,
   "metadata": {},
   "outputs": [
    {
     "data": {
      "text/plain": [
       "(703, 11)"
      ]
     },
     "execution_count": 539,
     "metadata": {},
     "output_type": "execute_result"
    }
   ],
   "source": [
    "train_data_d.shape"
   ]
  },
  {
   "cell_type": "code",
   "execution_count": 540,
   "metadata": {},
   "outputs": [
    {
     "name": "stdout",
     "output_type": "stream",
     "text": [
      "(36286, 7)\n"
     ]
    }
   ],
   "source": [
    "a_index = td.set_index(['item_id']).index\n",
    "b_index = coupon_item_data.set_index(['item_id']).index\n",
    "mask = a_index.isin(b_index)\n",
    "test_common = td.loc[mask]\n",
    "print(test_common.shape)"
   ]
  },
  {
   "cell_type": "code",
   "execution_count": 541,
   "metadata": {},
   "outputs": [
    {
     "name": "stdout",
     "output_type": "stream",
     "text": [
      "(36286, 2)\n"
     ]
    }
   ],
   "source": [
    "a_index = transaction_data.set_index(['item_id']).index\n",
    "b_index = cd.set_index(['item_id']).index\n",
    "mask = b_index.isin(a_index)\n",
    "test_common = cd.loc[mask]\n",
    "print(test_common.shape)"
   ]
  },
  {
   "cell_type": "code",
   "execution_count": 542,
   "metadata": {},
   "outputs": [
    {
     "name": "stdout",
     "output_type": "stream",
     "text": [
      "(92655, 2)\n"
     ]
    }
   ],
   "source": [
    "a_index = transaction_data.set_index(['item_id']).index\n",
    "b_index = coupon_item_data.set_index(['item_id']).index\n",
    "mask = b_index.isin(a_index)\n",
    "test_common = coupon_item_data.loc[mask]\n",
    "print(test_common.shape)"
   ]
  },
  {
   "cell_type": "code",
   "execution_count": 543,
   "metadata": {},
   "outputs": [],
   "source": [
    "test = pd.read_csv('./Desktop/test_data.csv')"
   ]
  },
  {
   "cell_type": "code",
   "execution_count": 544,
   "metadata": {},
   "outputs": [
    {
     "data": {
      "text/html": [
       "<div>\n",
       "<style scoped>\n",
       "    .dataframe tbody tr th:only-of-type {\n",
       "        vertical-align: middle;\n",
       "    }\n",
       "\n",
       "    .dataframe tbody tr th {\n",
       "        vertical-align: top;\n",
       "    }\n",
       "\n",
       "    .dataframe thead th {\n",
       "        text-align: right;\n",
       "    }\n",
       "</style>\n",
       "<table border=\"1\" class=\"dataframe\">\n",
       "  <thead>\n",
       "    <tr style=\"text-align: right;\">\n",
       "      <th></th>\n",
       "      <th>id</th>\n",
       "      <th>campaign_id</th>\n",
       "      <th>coupon_id</th>\n",
       "      <th>customer_id</th>\n",
       "      <th>redemption_status</th>\n",
       "      <th>age_range</th>\n",
       "      <th>rented</th>\n",
       "      <th>family_size</th>\n",
       "      <th>income_bracket</th>\n",
       "    </tr>\n",
       "  </thead>\n",
       "  <tbody>\n",
       "    <tr>\n",
       "      <td>0</td>\n",
       "      <td>1</td>\n",
       "      <td>13</td>\n",
       "      <td>27</td>\n",
       "      <td>1053</td>\n",
       "      <td>0</td>\n",
       "      <td>46-55</td>\n",
       "      <td>0</td>\n",
       "      <td>1</td>\n",
       "      <td>5</td>\n",
       "    </tr>\n",
       "    <tr>\n",
       "      <td>1</td>\n",
       "      <td>2444</td>\n",
       "      <td>13</td>\n",
       "      <td>513</td>\n",
       "      <td>1053</td>\n",
       "      <td>0</td>\n",
       "      <td>46-55</td>\n",
       "      <td>0</td>\n",
       "      <td>1</td>\n",
       "      <td>5</td>\n",
       "    </tr>\n",
       "    <tr>\n",
       "      <td>2</td>\n",
       "      <td>3651</td>\n",
       "      <td>13</td>\n",
       "      <td>166</td>\n",
       "      <td>1053</td>\n",
       "      <td>0</td>\n",
       "      <td>46-55</td>\n",
       "      <td>0</td>\n",
       "      <td>1</td>\n",
       "      <td>5</td>\n",
       "    </tr>\n",
       "    <tr>\n",
       "      <td>3</td>\n",
       "      <td>7712</td>\n",
       "      <td>13</td>\n",
       "      <td>766</td>\n",
       "      <td>1053</td>\n",
       "      <td>0</td>\n",
       "      <td>46-55</td>\n",
       "      <td>0</td>\n",
       "      <td>1</td>\n",
       "      <td>5</td>\n",
       "    </tr>\n",
       "    <tr>\n",
       "      <td>4</td>\n",
       "      <td>15317</td>\n",
       "      <td>13</td>\n",
       "      <td>165</td>\n",
       "      <td>1053</td>\n",
       "      <td>0</td>\n",
       "      <td>46-55</td>\n",
       "      <td>0</td>\n",
       "      <td>1</td>\n",
       "      <td>5</td>\n",
       "    </tr>\n",
       "  </tbody>\n",
       "</table>\n",
       "</div>"
      ],
      "text/plain": [
       "      id  campaign_id  coupon_id  customer_id  redemption_status age_range  \\\n",
       "0      1           13         27         1053                  0     46-55   \n",
       "1   2444           13        513         1053                  0     46-55   \n",
       "2   3651           13        166         1053                  0     46-55   \n",
       "3   7712           13        766         1053                  0     46-55   \n",
       "4  15317           13        165         1053                  0     46-55   \n",
       "\n",
       "   rented family_size  income_bracket  \n",
       "0       0           1               5  \n",
       "1       0           1               5  \n",
       "2       0           1               5  \n",
       "3       0           1               5  \n",
       "4       0           1               5  "
      ]
     },
     "execution_count": 544,
     "metadata": {},
     "output_type": "execute_result"
    }
   ],
   "source": [
    "trained_customer_data = train_customer_merged.drop(['marital_status','no_of_children'],axis=1)\n",
    "trained_customer_data.head()"
   ]
  },
  {
   "cell_type": "code",
   "execution_count": 545,
   "metadata": {},
   "outputs": [
    {
     "data": {
      "text/plain": [
       "coupon_id     1116\n",
       "item_id      36289\n",
       "dtype: int64"
      ]
     },
     "execution_count": 545,
     "metadata": {},
     "output_type": "execute_result"
    }
   ],
   "source": [
    "coupon_item_data.nunique()"
   ]
  },
  {
   "cell_type": "code",
   "execution_count": 546,
   "metadata": {},
   "outputs": [
    {
     "data": {
      "text/html": [
       "<div>\n",
       "<style scoped>\n",
       "    .dataframe tbody tr th:only-of-type {\n",
       "        vertical-align: middle;\n",
       "    }\n",
       "\n",
       "    .dataframe tbody tr th {\n",
       "        vertical-align: top;\n",
       "    }\n",
       "\n",
       "    .dataframe thead th {\n",
       "        text-align: right;\n",
       "    }\n",
       "</style>\n",
       "<table border=\"1\" class=\"dataframe\">\n",
       "  <thead>\n",
       "    <tr style=\"text-align: right;\">\n",
       "      <th></th>\n",
       "      <th>date</th>\n",
       "      <th>customer_id</th>\n",
       "      <th>item_id</th>\n",
       "      <th>quantity</th>\n",
       "      <th>selling_price</th>\n",
       "      <th>other_discount</th>\n",
       "      <th>coupon_discount</th>\n",
       "    </tr>\n",
       "  </thead>\n",
       "  <tbody>\n",
       "    <tr>\n",
       "      <td>0</td>\n",
       "      <td>2012-01-02</td>\n",
       "      <td>1501</td>\n",
       "      <td>26830</td>\n",
       "      <td>1</td>\n",
       "      <td>35.26</td>\n",
       "      <td>-10.69</td>\n",
       "      <td>0.0</td>\n",
       "    </tr>\n",
       "    <tr>\n",
       "      <td>1</td>\n",
       "      <td>2012-01-02</td>\n",
       "      <td>1501</td>\n",
       "      <td>54253</td>\n",
       "      <td>1</td>\n",
       "      <td>53.43</td>\n",
       "      <td>-13.89</td>\n",
       "      <td>0.0</td>\n",
       "    </tr>\n",
       "    <tr>\n",
       "      <td>2</td>\n",
       "      <td>2012-01-02</td>\n",
       "      <td>1501</td>\n",
       "      <td>31962</td>\n",
       "      <td>1</td>\n",
       "      <td>106.50</td>\n",
       "      <td>-14.25</td>\n",
       "      <td>0.0</td>\n",
       "    </tr>\n",
       "    <tr>\n",
       "      <td>3</td>\n",
       "      <td>2012-01-02</td>\n",
       "      <td>1501</td>\n",
       "      <td>33647</td>\n",
       "      <td>1</td>\n",
       "      <td>67.32</td>\n",
       "      <td>0.00</td>\n",
       "      <td>0.0</td>\n",
       "    </tr>\n",
       "    <tr>\n",
       "      <td>4</td>\n",
       "      <td>2012-01-02</td>\n",
       "      <td>1501</td>\n",
       "      <td>48199</td>\n",
       "      <td>1</td>\n",
       "      <td>71.24</td>\n",
       "      <td>-28.14</td>\n",
       "      <td>0.0</td>\n",
       "    </tr>\n",
       "  </tbody>\n",
       "</table>\n",
       "</div>"
      ],
      "text/plain": [
       "         date  customer_id  item_id  quantity  selling_price  other_discount  \\\n",
       "0  2012-01-02         1501    26830         1          35.26          -10.69   \n",
       "1  2012-01-02         1501    54253         1          53.43          -13.89   \n",
       "2  2012-01-02         1501    31962         1         106.50          -14.25   \n",
       "3  2012-01-02         1501    33647         1          67.32            0.00   \n",
       "4  2012-01-02         1501    48199         1          71.24          -28.14   \n",
       "\n",
       "   coupon_discount  \n",
       "0              0.0  \n",
       "1              0.0  \n",
       "2              0.0  \n",
       "3              0.0  \n",
       "4              0.0  "
      ]
     },
     "execution_count": 546,
     "metadata": {},
     "output_type": "execute_result"
    }
   ],
   "source": [
    "transaction_data.head()\n"
   ]
  },
  {
   "cell_type": "code",
   "execution_count": 547,
   "metadata": {},
   "outputs": [],
   "source": [
    "trans_item_merge = pd.merge(transaction_data, coupon_item_data,on=['item_id'])"
   ]
  },
  {
   "cell_type": "code",
   "execution_count": 548,
   "metadata": {},
   "outputs": [
    {
     "name": "stdout",
     "output_type": "stream",
     "text": [
      "(1324566, 7)\n",
      "(92663, 2)\n",
      "(2101361, 8)\n"
     ]
    }
   ],
   "source": [
    "print(transaction_data.shape)\n",
    "print(coupon_item_data.shape)\n",
    "print(trans_item_merge.shape)\n"
   ]
  },
  {
   "cell_type": "code",
   "execution_count": 549,
   "metadata": {},
   "outputs": [],
   "source": [
    "trans_item_merge1 = pd.merge(td, cd,on=['item_id'])"
   ]
  },
  {
   "cell_type": "code",
   "execution_count": 550,
   "metadata": {},
   "outputs": [
    {
     "data": {
      "text/plain": [
       "[]"
      ]
     },
     "execution_count": 550,
     "metadata": {},
     "output_type": "execute_result"
    }
   ],
   "source": [
    "missing_cols = [col for col in trans_item_merge.columns if trans_item_merge[col].isnull().any() ]\n",
    "missing_cols"
   ]
  },
  {
   "cell_type": "code",
   "execution_count": 551,
   "metadata": {},
   "outputs": [
    {
     "data": {
      "text/html": [
       "<div>\n",
       "<style scoped>\n",
       "    .dataframe tbody tr th:only-of-type {\n",
       "        vertical-align: middle;\n",
       "    }\n",
       "\n",
       "    .dataframe tbody tr th {\n",
       "        vertical-align: top;\n",
       "    }\n",
       "\n",
       "    .dataframe thead th {\n",
       "        text-align: right;\n",
       "    }\n",
       "</style>\n",
       "<table border=\"1\" class=\"dataframe\">\n",
       "  <thead>\n",
       "    <tr style=\"text-align: right;\">\n",
       "      <th></th>\n",
       "      <th>date</th>\n",
       "      <th>customer_id</th>\n",
       "      <th>item_id</th>\n",
       "      <th>quantity</th>\n",
       "      <th>selling_price</th>\n",
       "      <th>other_discount</th>\n",
       "      <th>coupon_discount</th>\n",
       "      <th>coupon_id</th>\n",
       "    </tr>\n",
       "  </thead>\n",
       "  <tbody>\n",
       "    <tr>\n",
       "      <td>0</td>\n",
       "      <td>2012-01-02</td>\n",
       "      <td>1501</td>\n",
       "      <td>26830</td>\n",
       "      <td>1</td>\n",
       "      <td>35.26</td>\n",
       "      <td>-10.69</td>\n",
       "      <td>0.0</td>\n",
       "      <td>7</td>\n",
       "    </tr>\n",
       "    <tr>\n",
       "      <td>1</td>\n",
       "      <td>2012-01-02</td>\n",
       "      <td>1501</td>\n",
       "      <td>26830</td>\n",
       "      <td>1</td>\n",
       "      <td>35.26</td>\n",
       "      <td>-10.69</td>\n",
       "      <td>0.0</td>\n",
       "      <td>20</td>\n",
       "    </tr>\n",
       "    <tr>\n",
       "      <td>2</td>\n",
       "      <td>2012-01-02</td>\n",
       "      <td>1501</td>\n",
       "      <td>26830</td>\n",
       "      <td>1</td>\n",
       "      <td>35.26</td>\n",
       "      <td>-10.69</td>\n",
       "      <td>0.0</td>\n",
       "      <td>29</td>\n",
       "    </tr>\n",
       "    <tr>\n",
       "      <td>3</td>\n",
       "      <td>2012-01-02</td>\n",
       "      <td>135</td>\n",
       "      <td>26830</td>\n",
       "      <td>1</td>\n",
       "      <td>35.26</td>\n",
       "      <td>-10.69</td>\n",
       "      <td>0.0</td>\n",
       "      <td>7</td>\n",
       "    </tr>\n",
       "    <tr>\n",
       "      <td>4</td>\n",
       "      <td>2012-01-02</td>\n",
       "      <td>135</td>\n",
       "      <td>26830</td>\n",
       "      <td>1</td>\n",
       "      <td>35.26</td>\n",
       "      <td>-10.69</td>\n",
       "      <td>0.0</td>\n",
       "      <td>20</td>\n",
       "    </tr>\n",
       "    <tr>\n",
       "      <td>...</td>\n",
       "      <td>...</td>\n",
       "      <td>...</td>\n",
       "      <td>...</td>\n",
       "      <td>...</td>\n",
       "      <td>...</td>\n",
       "      <td>...</td>\n",
       "      <td>...</td>\n",
       "      <td>...</td>\n",
       "    </tr>\n",
       "    <tr>\n",
       "      <td>2101356</td>\n",
       "      <td>2013-06-30</td>\n",
       "      <td>1129</td>\n",
       "      <td>2423</td>\n",
       "      <td>1</td>\n",
       "      <td>81.57</td>\n",
       "      <td>-7.12</td>\n",
       "      <td>0.0</td>\n",
       "      <td>211</td>\n",
       "    </tr>\n",
       "    <tr>\n",
       "      <td>2101357</td>\n",
       "      <td>2013-06-30</td>\n",
       "      <td>1129</td>\n",
       "      <td>2423</td>\n",
       "      <td>1</td>\n",
       "      <td>81.57</td>\n",
       "      <td>-7.12</td>\n",
       "      <td>0.0</td>\n",
       "      <td>30</td>\n",
       "    </tr>\n",
       "    <tr>\n",
       "      <td>2101358</td>\n",
       "      <td>2013-06-30</td>\n",
       "      <td>1129</td>\n",
       "      <td>2777</td>\n",
       "      <td>1</td>\n",
       "      <td>284.60</td>\n",
       "      <td>-71.24</td>\n",
       "      <td>0.0</td>\n",
       "      <td>43</td>\n",
       "    </tr>\n",
       "    <tr>\n",
       "      <td>2101359</td>\n",
       "      <td>2013-06-30</td>\n",
       "      <td>1129</td>\n",
       "      <td>2777</td>\n",
       "      <td>1</td>\n",
       "      <td>284.60</td>\n",
       "      <td>-71.24</td>\n",
       "      <td>0.0</td>\n",
       "      <td>42</td>\n",
       "    </tr>\n",
       "    <tr>\n",
       "      <td>2101360</td>\n",
       "      <td>2013-06-30</td>\n",
       "      <td>1129</td>\n",
       "      <td>2777</td>\n",
       "      <td>1</td>\n",
       "      <td>284.60</td>\n",
       "      <td>-71.24</td>\n",
       "      <td>0.0</td>\n",
       "      <td>1084</td>\n",
       "    </tr>\n",
       "  </tbody>\n",
       "</table>\n",
       "<p>2101361 rows × 8 columns</p>\n",
       "</div>"
      ],
      "text/plain": [
       "               date  customer_id  item_id  quantity  selling_price  \\\n",
       "0        2012-01-02         1501    26830         1          35.26   \n",
       "1        2012-01-02         1501    26830         1          35.26   \n",
       "2        2012-01-02         1501    26830         1          35.26   \n",
       "3        2012-01-02          135    26830         1          35.26   \n",
       "4        2012-01-02          135    26830         1          35.26   \n",
       "...             ...          ...      ...       ...            ...   \n",
       "2101356  2013-06-30         1129     2423         1          81.57   \n",
       "2101357  2013-06-30         1129     2423         1          81.57   \n",
       "2101358  2013-06-30         1129     2777         1         284.60   \n",
       "2101359  2013-06-30         1129     2777         1         284.60   \n",
       "2101360  2013-06-30         1129     2777         1         284.60   \n",
       "\n",
       "         other_discount  coupon_discount  coupon_id  \n",
       "0                -10.69              0.0          7  \n",
       "1                -10.69              0.0         20  \n",
       "2                -10.69              0.0         29  \n",
       "3                -10.69              0.0          7  \n",
       "4                -10.69              0.0         20  \n",
       "...                 ...              ...        ...  \n",
       "2101356           -7.12              0.0        211  \n",
       "2101357           -7.12              0.0         30  \n",
       "2101358          -71.24              0.0         43  \n",
       "2101359          -71.24              0.0         42  \n",
       "2101360          -71.24              0.0       1084  \n",
       "\n",
       "[2101361 rows x 8 columns]"
      ]
     },
     "execution_count": 551,
     "metadata": {},
     "output_type": "execute_result"
    }
   ],
   "source": [
    "trans_item_merge.dropna()"
   ]
  },
  {
   "cell_type": "code",
   "execution_count": 552,
   "metadata": {},
   "outputs": [
    {
     "name": "stdout",
     "output_type": "stream",
     "text": [
      "74063\n",
      "36289\n",
      "36286\n"
     ]
    }
   ],
   "source": [
    "print(transaction_data['item_id'].nunique())\n",
    "print(coupon_item_data['item_id'].nunique())\n",
    "print(trans_item_merge['item_id'].nunique())"
   ]
  },
  {
   "cell_type": "code",
   "execution_count": 553,
   "metadata": {},
   "outputs": [],
   "source": [
    "merged_on_customerIdAndCouponId = pd.merge(trans_item_merge, trained_customer_data, on=['customer_id', 'coupon_id'])"
   ]
  },
  {
   "cell_type": "code",
   "execution_count": 554,
   "metadata": {},
   "outputs": [],
   "source": [
    "merged_on_customerIdAndCouponId.drop(['id','date'], axis=1,inplace=True)"
   ]
  },
  {
   "cell_type": "code",
   "execution_count": 555,
   "metadata": {},
   "outputs": [
    {
     "data": {
      "text/html": [
       "<div>\n",
       "<style scoped>\n",
       "    .dataframe tbody tr th:only-of-type {\n",
       "        vertical-align: middle;\n",
       "    }\n",
       "\n",
       "    .dataframe tbody tr th {\n",
       "        vertical-align: top;\n",
       "    }\n",
       "\n",
       "    .dataframe thead th {\n",
       "        text-align: right;\n",
       "    }\n",
       "</style>\n",
       "<table border=\"1\" class=\"dataframe\">\n",
       "  <thead>\n",
       "    <tr style=\"text-align: right;\">\n",
       "      <th></th>\n",
       "      <th>customer_id</th>\n",
       "      <th>item_id</th>\n",
       "      <th>quantity</th>\n",
       "      <th>selling_price</th>\n",
       "      <th>other_discount</th>\n",
       "      <th>coupon_discount</th>\n",
       "      <th>coupon_id</th>\n",
       "      <th>campaign_id</th>\n",
       "      <th>redemption_status</th>\n",
       "      <th>age_range</th>\n",
       "      <th>rented</th>\n",
       "      <th>family_size</th>\n",
       "      <th>income_bracket</th>\n",
       "    </tr>\n",
       "  </thead>\n",
       "  <tbody>\n",
       "    <tr>\n",
       "      <td>0</td>\n",
       "      <td>11</td>\n",
       "      <td>26830</td>\n",
       "      <td>1</td>\n",
       "      <td>53.07</td>\n",
       "      <td>0.00</td>\n",
       "      <td>0.0</td>\n",
       "      <td>7</td>\n",
       "      <td>8</td>\n",
       "      <td>0</td>\n",
       "      <td>70+</td>\n",
       "      <td>0</td>\n",
       "      <td>2</td>\n",
       "      <td>1</td>\n",
       "    </tr>\n",
       "    <tr>\n",
       "      <td>1</td>\n",
       "      <td>11</td>\n",
       "      <td>26830</td>\n",
       "      <td>1</td>\n",
       "      <td>53.07</td>\n",
       "      <td>0.00</td>\n",
       "      <td>0.0</td>\n",
       "      <td>7</td>\n",
       "      <td>8</td>\n",
       "      <td>0</td>\n",
       "      <td>70+</td>\n",
       "      <td>0</td>\n",
       "      <td>2</td>\n",
       "      <td>1</td>\n",
       "    </tr>\n",
       "    <tr>\n",
       "      <td>2</td>\n",
       "      <td>11</td>\n",
       "      <td>13174</td>\n",
       "      <td>1</td>\n",
       "      <td>35.26</td>\n",
       "      <td>0.00</td>\n",
       "      <td>0.0</td>\n",
       "      <td>7</td>\n",
       "      <td>8</td>\n",
       "      <td>0</td>\n",
       "      <td>70+</td>\n",
       "      <td>0</td>\n",
       "      <td>2</td>\n",
       "      <td>1</td>\n",
       "    </tr>\n",
       "    <tr>\n",
       "      <td>3</td>\n",
       "      <td>11</td>\n",
       "      <td>13174</td>\n",
       "      <td>1</td>\n",
       "      <td>35.26</td>\n",
       "      <td>0.00</td>\n",
       "      <td>0.0</td>\n",
       "      <td>7</td>\n",
       "      <td>8</td>\n",
       "      <td>0</td>\n",
       "      <td>70+</td>\n",
       "      <td>0</td>\n",
       "      <td>2</td>\n",
       "      <td>1</td>\n",
       "    </tr>\n",
       "    <tr>\n",
       "      <td>4</td>\n",
       "      <td>11</td>\n",
       "      <td>13174</td>\n",
       "      <td>1</td>\n",
       "      <td>24.58</td>\n",
       "      <td>-10.69</td>\n",
       "      <td>0.0</td>\n",
       "      <td>7</td>\n",
       "      <td>8</td>\n",
       "      <td>0</td>\n",
       "      <td>70+</td>\n",
       "      <td>0</td>\n",
       "      <td>2</td>\n",
       "      <td>1</td>\n",
       "    </tr>\n",
       "  </tbody>\n",
       "</table>\n",
       "</div>"
      ],
      "text/plain": [
       "   customer_id  item_id  quantity  selling_price  other_discount  \\\n",
       "0           11    26830         1          53.07            0.00   \n",
       "1           11    26830         1          53.07            0.00   \n",
       "2           11    13174         1          35.26            0.00   \n",
       "3           11    13174         1          35.26            0.00   \n",
       "4           11    13174         1          24.58          -10.69   \n",
       "\n",
       "   coupon_discount  coupon_id  campaign_id  redemption_status age_range  \\\n",
       "0              0.0          7            8                  0       70+   \n",
       "1              0.0          7            8                  0       70+   \n",
       "2              0.0          7            8                  0       70+   \n",
       "3              0.0          7            8                  0       70+   \n",
       "4              0.0          7            8                  0       70+   \n",
       "\n",
       "   rented family_size  income_bracket  \n",
       "0       0           2               1  \n",
       "1       0           2               1  \n",
       "2       0           2               1  \n",
       "3       0           2               1  \n",
       "4       0           2               1  "
      ]
     },
     "execution_count": 555,
     "metadata": {},
     "output_type": "execute_result"
    }
   ],
   "source": [
    "merged_on_customerIdAndCouponId.head()"
   ]
  },
  {
   "cell_type": "code",
   "execution_count": 556,
   "metadata": {},
   "outputs": [],
   "source": [
    "campaign_data['campaign_type'] = campaign_data['campaign_type'].replace({'X':0,'Y':1})"
   ]
  },
  {
   "cell_type": "code",
   "execution_count": 557,
   "metadata": {},
   "outputs": [],
   "source": [
    "campaign_data_without_dates = campaign_data.drop(['start_date', 'end_date'], axis=1)"
   ]
  },
  {
   "cell_type": "code",
   "execution_count": 558,
   "metadata": {},
   "outputs": [
    {
     "data": {
      "text/html": [
       "<div>\n",
       "<style scoped>\n",
       "    .dataframe tbody tr th:only-of-type {\n",
       "        vertical-align: middle;\n",
       "    }\n",
       "\n",
       "    .dataframe tbody tr th {\n",
       "        vertical-align: top;\n",
       "    }\n",
       "\n",
       "    .dataframe thead th {\n",
       "        text-align: right;\n",
       "    }\n",
       "</style>\n",
       "<table border=\"1\" class=\"dataframe\">\n",
       "  <thead>\n",
       "    <tr style=\"text-align: right;\">\n",
       "      <th></th>\n",
       "      <th>campaign_id</th>\n",
       "      <th>campaign_type</th>\n",
       "    </tr>\n",
       "  </thead>\n",
       "  <tbody>\n",
       "    <tr>\n",
       "      <td>0</td>\n",
       "      <td>24</td>\n",
       "      <td>1</td>\n",
       "    </tr>\n",
       "    <tr>\n",
       "      <td>1</td>\n",
       "      <td>25</td>\n",
       "      <td>1</td>\n",
       "    </tr>\n",
       "    <tr>\n",
       "      <td>2</td>\n",
       "      <td>20</td>\n",
       "      <td>1</td>\n",
       "    </tr>\n",
       "    <tr>\n",
       "      <td>3</td>\n",
       "      <td>23</td>\n",
       "      <td>1</td>\n",
       "    </tr>\n",
       "    <tr>\n",
       "      <td>4</td>\n",
       "      <td>21</td>\n",
       "      <td>1</td>\n",
       "    </tr>\n",
       "  </tbody>\n",
       "</table>\n",
       "</div>"
      ],
      "text/plain": [
       "   campaign_id  campaign_type\n",
       "0           24              1\n",
       "1           25              1\n",
       "2           20              1\n",
       "3           23              1\n",
       "4           21              1"
      ]
     },
     "execution_count": 558,
     "metadata": {},
     "output_type": "execute_result"
    }
   ],
   "source": [
    "campaign_data_without_dates.head()"
   ]
  },
  {
   "cell_type": "code",
   "execution_count": 559,
   "metadata": {},
   "outputs": [],
   "source": [
    "merged_on_item = pd.merge(merged_on_customerIdAndCouponId,item_data, on=['item_id'])\n"
   ]
  },
  {
   "cell_type": "code",
   "execution_count": 560,
   "metadata": {},
   "outputs": [
    {
     "data": {
      "text/html": [
       "<div>\n",
       "<style scoped>\n",
       "    .dataframe tbody tr th:only-of-type {\n",
       "        vertical-align: middle;\n",
       "    }\n",
       "\n",
       "    .dataframe tbody tr th {\n",
       "        vertical-align: top;\n",
       "    }\n",
       "\n",
       "    .dataframe thead th {\n",
       "        text-align: right;\n",
       "    }\n",
       "</style>\n",
       "<table border=\"1\" class=\"dataframe\">\n",
       "  <thead>\n",
       "    <tr style=\"text-align: right;\">\n",
       "      <th></th>\n",
       "      <th>customer_id</th>\n",
       "      <th>item_id</th>\n",
       "      <th>quantity</th>\n",
       "      <th>selling_price</th>\n",
       "      <th>other_discount</th>\n",
       "      <th>coupon_discount</th>\n",
       "      <th>coupon_id</th>\n",
       "      <th>campaign_id</th>\n",
       "      <th>redemption_status</th>\n",
       "      <th>age_range</th>\n",
       "      <th>rented</th>\n",
       "      <th>family_size</th>\n",
       "      <th>income_bracket</th>\n",
       "      <th>brand</th>\n",
       "      <th>brand_type</th>\n",
       "      <th>category</th>\n",
       "    </tr>\n",
       "  </thead>\n",
       "  <tbody>\n",
       "    <tr>\n",
       "      <td>0</td>\n",
       "      <td>11</td>\n",
       "      <td>26830</td>\n",
       "      <td>1</td>\n",
       "      <td>53.07</td>\n",
       "      <td>0.00</td>\n",
       "      <td>0.0</td>\n",
       "      <td>7</td>\n",
       "      <td>8</td>\n",
       "      <td>0</td>\n",
       "      <td>70+</td>\n",
       "      <td>0</td>\n",
       "      <td>2</td>\n",
       "      <td>1</td>\n",
       "      <td>56</td>\n",
       "      <td>Local</td>\n",
       "      <td>Natural Products</td>\n",
       "    </tr>\n",
       "    <tr>\n",
       "      <td>1</td>\n",
       "      <td>11</td>\n",
       "      <td>26830</td>\n",
       "      <td>1</td>\n",
       "      <td>53.07</td>\n",
       "      <td>0.00</td>\n",
       "      <td>0.0</td>\n",
       "      <td>7</td>\n",
       "      <td>8</td>\n",
       "      <td>0</td>\n",
       "      <td>70+</td>\n",
       "      <td>0</td>\n",
       "      <td>2</td>\n",
       "      <td>1</td>\n",
       "      <td>56</td>\n",
       "      <td>Local</td>\n",
       "      <td>Natural Products</td>\n",
       "    </tr>\n",
       "    <tr>\n",
       "      <td>2</td>\n",
       "      <td>1473</td>\n",
       "      <td>26830</td>\n",
       "      <td>1</td>\n",
       "      <td>53.07</td>\n",
       "      <td>0.00</td>\n",
       "      <td>0.0</td>\n",
       "      <td>7</td>\n",
       "      <td>8</td>\n",
       "      <td>0</td>\n",
       "      <td>36-45</td>\n",
       "      <td>0</td>\n",
       "      <td>1</td>\n",
       "      <td>5</td>\n",
       "      <td>56</td>\n",
       "      <td>Local</td>\n",
       "      <td>Natural Products</td>\n",
       "    </tr>\n",
       "    <tr>\n",
       "      <td>3</td>\n",
       "      <td>103</td>\n",
       "      <td>26830</td>\n",
       "      <td>1</td>\n",
       "      <td>17.45</td>\n",
       "      <td>-35.62</td>\n",
       "      <td>0.0</td>\n",
       "      <td>7</td>\n",
       "      <td>8</td>\n",
       "      <td>0</td>\n",
       "      <td>46-55</td>\n",
       "      <td>0</td>\n",
       "      <td>2</td>\n",
       "      <td>4</td>\n",
       "      <td>56</td>\n",
       "      <td>Local</td>\n",
       "      <td>Natural Products</td>\n",
       "    </tr>\n",
       "    <tr>\n",
       "      <td>4</td>\n",
       "      <td>103</td>\n",
       "      <td>26830</td>\n",
       "      <td>1</td>\n",
       "      <td>45.95</td>\n",
       "      <td>0.00</td>\n",
       "      <td>0.0</td>\n",
       "      <td>7</td>\n",
       "      <td>8</td>\n",
       "      <td>0</td>\n",
       "      <td>46-55</td>\n",
       "      <td>0</td>\n",
       "      <td>2</td>\n",
       "      <td>4</td>\n",
       "      <td>56</td>\n",
       "      <td>Local</td>\n",
       "      <td>Natural Products</td>\n",
       "    </tr>\n",
       "  </tbody>\n",
       "</table>\n",
       "</div>"
      ],
      "text/plain": [
       "   customer_id  item_id  quantity  selling_price  other_discount  \\\n",
       "0           11    26830         1          53.07            0.00   \n",
       "1           11    26830         1          53.07            0.00   \n",
       "2         1473    26830         1          53.07            0.00   \n",
       "3          103    26830         1          17.45          -35.62   \n",
       "4          103    26830         1          45.95            0.00   \n",
       "\n",
       "   coupon_discount  coupon_id  campaign_id  redemption_status age_range  \\\n",
       "0              0.0          7            8                  0       70+   \n",
       "1              0.0          7            8                  0       70+   \n",
       "2              0.0          7            8                  0     36-45   \n",
       "3              0.0          7            8                  0     46-55   \n",
       "4              0.0          7            8                  0     46-55   \n",
       "\n",
       "   rented family_size  income_bracket  brand brand_type          category  \n",
       "0       0           2               1     56      Local  Natural Products  \n",
       "1       0           2               1     56      Local  Natural Products  \n",
       "2       0           1               5     56      Local  Natural Products  \n",
       "3       0           2               4     56      Local  Natural Products  \n",
       "4       0           2               4     56      Local  Natural Products  "
      ]
     },
     "execution_count": 560,
     "metadata": {},
     "output_type": "execute_result"
    }
   ],
   "source": [
    "merged_on_item.head()"
   ]
  },
  {
   "cell_type": "code",
   "execution_count": 561,
   "metadata": {},
   "outputs": [],
   "source": [
    "merged_on_campaign = pd.merge(merged_on_item,campaign_data_without_dates, on='campaign_id')"
   ]
  },
  {
   "cell_type": "code",
   "execution_count": null,
   "metadata": {},
   "outputs": [],
   "source": []
  },
  {
   "cell_type": "code",
   "execution_count": 562,
   "metadata": {},
   "outputs": [
    {
     "name": "stdout",
     "output_type": "stream",
     "text": [
      "<class 'pandas.core.frame.DataFrame'>\n",
      "Int64Index: 94855 entries, 0 to 94854\n",
      "Data columns (total 17 columns):\n",
      "customer_id          94855 non-null int64\n",
      "item_id              94855 non-null int64\n",
      "quantity             94855 non-null int64\n",
      "selling_price        94855 non-null float64\n",
      "other_discount       94855 non-null float64\n",
      "coupon_discount      94855 non-null float64\n",
      "coupon_id            94855 non-null int64\n",
      "campaign_id          94855 non-null int64\n",
      "redemption_status    94855 non-null int64\n",
      "age_range            94855 non-null object\n",
      "rented               94855 non-null int64\n",
      "family_size          94855 non-null object\n",
      "income_bracket       94855 non-null int64\n",
      "brand                94855 non-null int64\n",
      "brand_type           94855 non-null object\n",
      "category             94855 non-null object\n",
      "campaign_type        94855 non-null int64\n",
      "dtypes: float64(3), int64(10), object(4)\n",
      "memory usage: 13.0+ MB\n"
     ]
    }
   ],
   "source": [
    "merged_on_campaign.info()"
   ]
  },
  {
   "cell_type": "code",
   "execution_count": 563,
   "metadata": {},
   "outputs": [],
   "source": [
    "merged = merged_on_campaign.copy()"
   ]
  },
  {
   "cell_type": "code",
   "execution_count": 564,
   "metadata": {},
   "outputs": [],
   "source": [
    "merged.drop(['item_id'],axis=1,inplace=True)"
   ]
  },
  {
   "cell_type": "code",
   "execution_count": 565,
   "metadata": {},
   "outputs": [
    {
     "data": {
      "text/plain": [
       "coupon_id     1116\n",
       "item_id      36289\n",
       "dtype: int64"
      ]
     },
     "execution_count": 565,
     "metadata": {},
     "output_type": "execute_result"
    }
   ],
   "source": [
    "coupon_item_data.nunique()"
   ]
  },
  {
   "cell_type": "code",
   "execution_count": 566,
   "metadata": {},
   "outputs": [],
   "source": [
    "test = pd.read_csv('./Desktop/test_data.csv')"
   ]
  },
  {
   "cell_type": "code",
   "execution_count": 567,
   "metadata": {},
   "outputs": [
    {
     "data": {
      "text/html": [
       "<div>\n",
       "<style scoped>\n",
       "    .dataframe tbody tr th:only-of-type {\n",
       "        vertical-align: middle;\n",
       "    }\n",
       "\n",
       "    .dataframe tbody tr th {\n",
       "        vertical-align: top;\n",
       "    }\n",
       "\n",
       "    .dataframe thead th {\n",
       "        text-align: right;\n",
       "    }\n",
       "</style>\n",
       "<table border=\"1\" class=\"dataframe\">\n",
       "  <thead>\n",
       "    <tr style=\"text-align: right;\">\n",
       "      <th></th>\n",
       "      <th>id</th>\n",
       "      <th>campaign_id</th>\n",
       "      <th>coupon_id</th>\n",
       "      <th>customer_id</th>\n",
       "    </tr>\n",
       "  </thead>\n",
       "  <tbody>\n",
       "    <tr>\n",
       "      <td>0</td>\n",
       "      <td>3</td>\n",
       "      <td>22</td>\n",
       "      <td>869</td>\n",
       "      <td>967</td>\n",
       "    </tr>\n",
       "    <tr>\n",
       "      <td>1</td>\n",
       "      <td>4</td>\n",
       "      <td>20</td>\n",
       "      <td>389</td>\n",
       "      <td>1566</td>\n",
       "    </tr>\n",
       "    <tr>\n",
       "      <td>2</td>\n",
       "      <td>5</td>\n",
       "      <td>22</td>\n",
       "      <td>981</td>\n",
       "      <td>510</td>\n",
       "    </tr>\n",
       "    <tr>\n",
       "      <td>3</td>\n",
       "      <td>8</td>\n",
       "      <td>25</td>\n",
       "      <td>1069</td>\n",
       "      <td>361</td>\n",
       "    </tr>\n",
       "    <tr>\n",
       "      <td>4</td>\n",
       "      <td>10</td>\n",
       "      <td>17</td>\n",
       "      <td>498</td>\n",
       "      <td>811</td>\n",
       "    </tr>\n",
       "  </tbody>\n",
       "</table>\n",
       "</div>"
      ],
      "text/plain": [
       "   id  campaign_id  coupon_id  customer_id\n",
       "0   3           22        869          967\n",
       "1   4           20        389         1566\n",
       "2   5           22        981          510\n",
       "3   8           25       1069          361\n",
       "4  10           17        498          811"
      ]
     },
     "execution_count": 567,
     "metadata": {},
     "output_type": "execute_result"
    }
   ],
   "source": [
    "test.head()"
   ]
  },
  {
   "cell_type": "code",
   "execution_count": 568,
   "metadata": {},
   "outputs": [
    {
     "data": {
      "text/plain": [
       "(50226, 4)"
      ]
     },
     "execution_count": 568,
     "metadata": {},
     "output_type": "execute_result"
    }
   ],
   "source": [
    "test.shape"
   ]
  },
  {
   "cell_type": "code",
   "execution_count": 569,
   "metadata": {},
   "outputs": [
    {
     "data": {
      "text/html": [
       "<div>\n",
       "<style scoped>\n",
       "    .dataframe tbody tr th:only-of-type {\n",
       "        vertical-align: middle;\n",
       "    }\n",
       "\n",
       "    .dataframe tbody tr th {\n",
       "        vertical-align: top;\n",
       "    }\n",
       "\n",
       "    .dataframe thead th {\n",
       "        text-align: right;\n",
       "    }\n",
       "</style>\n",
       "<table border=\"1\" class=\"dataframe\">\n",
       "  <thead>\n",
       "    <tr style=\"text-align: right;\">\n",
       "      <th></th>\n",
       "      <th>customer_id</th>\n",
       "      <th>quantity</th>\n",
       "      <th>selling_price</th>\n",
       "      <th>other_discount</th>\n",
       "      <th>coupon_discount</th>\n",
       "      <th>coupon_id</th>\n",
       "      <th>campaign_id</th>\n",
       "      <th>redemption_status</th>\n",
       "      <th>age_range</th>\n",
       "      <th>rented</th>\n",
       "      <th>family_size</th>\n",
       "      <th>income_bracket</th>\n",
       "      <th>brand</th>\n",
       "      <th>brand_type</th>\n",
       "      <th>category</th>\n",
       "      <th>campaign_type</th>\n",
       "    </tr>\n",
       "  </thead>\n",
       "  <tbody>\n",
       "    <tr>\n",
       "      <td>0</td>\n",
       "      <td>11</td>\n",
       "      <td>1</td>\n",
       "      <td>53.07</td>\n",
       "      <td>0.00</td>\n",
       "      <td>0.0</td>\n",
       "      <td>7</td>\n",
       "      <td>8</td>\n",
       "      <td>0</td>\n",
       "      <td>70+</td>\n",
       "      <td>0</td>\n",
       "      <td>2</td>\n",
       "      <td>1</td>\n",
       "      <td>56</td>\n",
       "      <td>Local</td>\n",
       "      <td>Natural Products</td>\n",
       "      <td>0</td>\n",
       "    </tr>\n",
       "    <tr>\n",
       "      <td>1</td>\n",
       "      <td>11</td>\n",
       "      <td>1</td>\n",
       "      <td>53.07</td>\n",
       "      <td>0.00</td>\n",
       "      <td>0.0</td>\n",
       "      <td>7</td>\n",
       "      <td>8</td>\n",
       "      <td>0</td>\n",
       "      <td>70+</td>\n",
       "      <td>0</td>\n",
       "      <td>2</td>\n",
       "      <td>1</td>\n",
       "      <td>56</td>\n",
       "      <td>Local</td>\n",
       "      <td>Natural Products</td>\n",
       "      <td>0</td>\n",
       "    </tr>\n",
       "    <tr>\n",
       "      <td>2</td>\n",
       "      <td>1473</td>\n",
       "      <td>1</td>\n",
       "      <td>53.07</td>\n",
       "      <td>0.00</td>\n",
       "      <td>0.0</td>\n",
       "      <td>7</td>\n",
       "      <td>8</td>\n",
       "      <td>0</td>\n",
       "      <td>36-45</td>\n",
       "      <td>0</td>\n",
       "      <td>1</td>\n",
       "      <td>5</td>\n",
       "      <td>56</td>\n",
       "      <td>Local</td>\n",
       "      <td>Natural Products</td>\n",
       "      <td>0</td>\n",
       "    </tr>\n",
       "    <tr>\n",
       "      <td>3</td>\n",
       "      <td>103</td>\n",
       "      <td>1</td>\n",
       "      <td>17.45</td>\n",
       "      <td>-35.62</td>\n",
       "      <td>0.0</td>\n",
       "      <td>7</td>\n",
       "      <td>8</td>\n",
       "      <td>0</td>\n",
       "      <td>46-55</td>\n",
       "      <td>0</td>\n",
       "      <td>2</td>\n",
       "      <td>4</td>\n",
       "      <td>56</td>\n",
       "      <td>Local</td>\n",
       "      <td>Natural Products</td>\n",
       "      <td>0</td>\n",
       "    </tr>\n",
       "    <tr>\n",
       "      <td>4</td>\n",
       "      <td>103</td>\n",
       "      <td>1</td>\n",
       "      <td>45.95</td>\n",
       "      <td>0.00</td>\n",
       "      <td>0.0</td>\n",
       "      <td>7</td>\n",
       "      <td>8</td>\n",
       "      <td>0</td>\n",
       "      <td>46-55</td>\n",
       "      <td>0</td>\n",
       "      <td>2</td>\n",
       "      <td>4</td>\n",
       "      <td>56</td>\n",
       "      <td>Local</td>\n",
       "      <td>Natural Products</td>\n",
       "      <td>0</td>\n",
       "    </tr>\n",
       "  </tbody>\n",
       "</table>\n",
       "</div>"
      ],
      "text/plain": [
       "   customer_id  quantity  selling_price  other_discount  coupon_discount  \\\n",
       "0           11         1          53.07            0.00              0.0   \n",
       "1           11         1          53.07            0.00              0.0   \n",
       "2         1473         1          53.07            0.00              0.0   \n",
       "3          103         1          17.45          -35.62              0.0   \n",
       "4          103         1          45.95            0.00              0.0   \n",
       "\n",
       "   coupon_id  campaign_id  redemption_status age_range  rented family_size  \\\n",
       "0          7            8                  0       70+       0           2   \n",
       "1          7            8                  0       70+       0           2   \n",
       "2          7            8                  0     36-45       0           1   \n",
       "3          7            8                  0     46-55       0           2   \n",
       "4          7            8                  0     46-55       0           2   \n",
       "\n",
       "   income_bracket  brand brand_type          category  campaign_type  \n",
       "0               1     56      Local  Natural Products              0  \n",
       "1               1     56      Local  Natural Products              0  \n",
       "2               5     56      Local  Natural Products              0  \n",
       "3               4     56      Local  Natural Products              0  \n",
       "4               4     56      Local  Natural Products              0  "
      ]
     },
     "execution_count": 569,
     "metadata": {},
     "output_type": "execute_result"
    }
   ],
   "source": [
    "merged.head()"
   ]
  },
  {
   "cell_type": "code",
   "execution_count": 570,
   "metadata": {},
   "outputs": [],
   "source": [
    "training = merged.copy()"
   ]
  },
  {
   "cell_type": "code",
   "execution_count": 571,
   "metadata": {},
   "outputs": [],
   "source": [
    "X = merged.copy()\n",
    "train_with_all_cols = training.copy()\n",
    "X.drop(['redemption_status'],axis=1,inplace=True)\n",
    "\n",
    "X_test = test.copy()\n",
    "y= training['redemption_status']\n",
    "# Break off validation set from training data\n",
    "X_train, X_valid, y_train, y_valid = train_test_split(X, y, train_size=0.8, test_size=0.2,random_state=0)"
   ]
  },
  {
   "cell_type": "code",
   "execution_count": 572,
   "metadata": {},
   "outputs": [],
   "source": [
    "X_train_with_ids = X_train[['customer_id','coupon_id','campaign_id']]\n",
    "X_train = X_train.drop(['customer_id','coupon_id','campaign_id'],axis=1)\n",
    "\n",
    "X_valid_with_ids = X_valid[['customer_id','coupon_id','campaign_id']]\n",
    "X_valid = X_valid.drop(['customer_id','coupon_id','campaign_id'],axis=1)\n"
   ]
  },
  {
   "cell_type": "code",
   "execution_count": 573,
   "metadata": {},
   "outputs": [
    {
     "name": "stdout",
     "output_type": "stream",
     "text": [
      "<class 'pandas.core.frame.DataFrame'>\n",
      "Int64Index: 75884 entries, 60755 to 68268\n",
      "Data columns (total 12 columns):\n",
      "quantity           75884 non-null int64\n",
      "selling_price      75884 non-null float64\n",
      "other_discount     75884 non-null float64\n",
      "coupon_discount    75884 non-null float64\n",
      "age_range          75884 non-null object\n",
      "rented             75884 non-null int64\n",
      "family_size        75884 non-null object\n",
      "income_bracket     75884 non-null int64\n",
      "brand              75884 non-null int64\n",
      "brand_type         75884 non-null object\n",
      "category           75884 non-null object\n",
      "campaign_type      75884 non-null int64\n",
      "dtypes: float64(3), int64(5), object(4)\n",
      "memory usage: 7.5+ MB\n"
     ]
    }
   ],
   "source": [
    "X_train.info()"
   ]
  },
  {
   "cell_type": "code",
   "execution_count": 574,
   "metadata": {},
   "outputs": [
    {
     "name": "stdout",
     "output_type": "stream",
     "text": [
      "Categorical variables:\n",
      "[Index(['age_range', 'family_size', 'brand_type', 'category'], dtype='object')]\n"
     ]
    }
   ],
   "source": [
    "s = (X_train.dtypes == 'object')\n",
    "object_cols = [s[s].index]\n",
    "\n",
    "print(\"Categorical variables:\")\n",
    "print(object_cols)"
   ]
  },
  {
   "cell_type": "code",
   "execution_count": 575,
   "metadata": {},
   "outputs": [],
   "source": [
    "object_cols = ['age_range', 'family_size', 'brand_type', 'category']"
   ]
  },
  {
   "cell_type": "code",
   "execution_count": 576,
   "metadata": {},
   "outputs": [],
   "source": [
    "#OneHotEncoding\n",
    "OH_encoder = OneHotEncoder(handle_unknown='ignore', sparse=False)\n",
    "OH_cols_train = pd.DataFrame(OH_encoder.fit_transform(X_train[object_cols]))\n",
    "OH_cols_valid = pd.DataFrame(OH_encoder.transform(X_valid[object_cols]))\n",
    "\n",
    "# One-hot encoding removed index; put it back\n",
    "OH_cols_train.index = X_train.index\n",
    "OH_cols_valid.index = X_valid.index\n",
    "\n",
    "# Remove categorical columns (will replace with one-hot encoding)\n",
    "num_X_train = X_train.drop(object_cols, axis=1)\n",
    "num_X_valid = X_valid.drop(object_cols, axis=1)\n",
    "\n",
    "# Add one-hot encoded columns to numerical features\n",
    "OH_X_train = pd.concat([num_X_train, OH_cols_train], axis=1)\n",
    "OH_X_valid = pd.concat([num_X_valid, OH_cols_valid], axis=1)"
   ]
  },
  {
   "cell_type": "code",
   "execution_count": 577,
   "metadata": {},
   "outputs": [
    {
     "name": "stdout",
     "output_type": "stream",
     "text": [
      "Categorical columns that will be label encoded: ['age_range', 'family_size', 'brand_type']\n",
      "\n",
      "Categorical columns that will be dropped from the dataset: [{'category'}]\n"
     ]
    }
   ],
   "source": [
    "object_cols = [col for col in X_train.columns if X_train[col].dtype == \"object\"]\n",
    "\n",
    "# Columns that can be safely label encoded\n",
    "good_label_cols = [col for col in object_cols if \n",
    "                   set(X_train[col]) == set(X_valid[col])]\n",
    "        \n",
    "# Problematic columns that will be dropped from the dataset\n",
    "bad_label_cols = [set(object_cols)-set(good_label_cols)]\n",
    "#print(X_train['Norm'].unique())   \n",
    "print('Categorical columns that will be label encoded:', good_label_cols)\n",
    "print('\\nCategorical columns that will be dropped from the dataset:', bad_label_cols)"
   ]
  },
  {
   "cell_type": "code",
   "execution_count": 578,
   "metadata": {},
   "outputs": [],
   "source": [
    "bad_label_cols=['category']"
   ]
  },
  {
   "cell_type": "code",
   "execution_count": 579,
   "metadata": {},
   "outputs": [
    {
     "name": "stdout",
     "output_type": "stream",
     "text": [
      "[0 3 2 1 5 4]\n",
      "[0 1 2 3 4]\n",
      "[0 1]\n"
     ]
    }
   ],
   "source": [
    "#LabelEncoding\n",
    "label_X_train = X_train.drop(bad_label_cols, axis=1)\n",
    "label_X_valid = X_valid.drop(bad_label_cols, axis=1)\n",
    "\n",
    "# Apply label encoder \n",
    "label_encoder = LabelEncoder()\n",
    "for col in good_label_cols:\n",
    "    label_X_train[col] = label_encoder.fit_transform(label_X_train[col])\n",
    "    label_X_valid[col] = label_encoder.transform(label_X_valid[col])\n",
    "    print(label_X_valid[col].unique())"
   ]
  },
  {
   "cell_type": "code",
   "execution_count": 580,
   "metadata": {},
   "outputs": [
    {
     "name": "stdout",
     "output_type": "stream",
     "text": [
      "Index(['quantity', 'selling_price', 'other_discount', 'coupon_discount',\n",
      "       'age_range', 'rented', 'family_size', 'income_bracket', 'brand',\n",
      "       'brand_type', 'category', 'campaign_type'],\n",
      "      dtype='object')\n",
      "Index([       'quantity',   'selling_price',  'other_discount',\n",
      "       'coupon_discount',          'rented',  'income_bracket',\n",
      "                 'brand',   'campaign_type',                 0,\n",
      "                       1,                 2,                 3,\n",
      "                       4,                 5,                 6,\n",
      "                       7,                 8,                 9,\n",
      "                      10,                11,                12,\n",
      "                      13,                14,                15,\n",
      "                      16,                17,                18,\n",
      "                      19,                20,                21,\n",
      "                      22,                23,                24,\n",
      "                      25,                26,                27,\n",
      "                      28],\n",
      "      dtype='object')\n"
     ]
    }
   ],
   "source": [
    "print(X_train.columns)\n",
    "print(OH_X_train.columns)"
   ]
  },
  {
   "cell_type": "code",
   "execution_count": 581,
   "metadata": {},
   "outputs": [
    {
     "data": {
      "text/html": [
       "<div>\n",
       "<style scoped>\n",
       "    .dataframe tbody tr th:only-of-type {\n",
       "        vertical-align: middle;\n",
       "    }\n",
       "\n",
       "    .dataframe tbody tr th {\n",
       "        vertical-align: top;\n",
       "    }\n",
       "\n",
       "    .dataframe thead th {\n",
       "        text-align: right;\n",
       "    }\n",
       "</style>\n",
       "<table border=\"1\" class=\"dataframe\">\n",
       "  <thead>\n",
       "    <tr style=\"text-align: right;\">\n",
       "      <th></th>\n",
       "      <th>quantity</th>\n",
       "      <th>selling_price</th>\n",
       "      <th>other_discount</th>\n",
       "      <th>coupon_discount</th>\n",
       "      <th>rented</th>\n",
       "      <th>income_bracket</th>\n",
       "      <th>brand</th>\n",
       "      <th>campaign_type</th>\n",
       "      <th>0</th>\n",
       "      <th>1</th>\n",
       "      <th>...</th>\n",
       "      <th>19</th>\n",
       "      <th>20</th>\n",
       "      <th>21</th>\n",
       "      <th>22</th>\n",
       "      <th>23</th>\n",
       "      <th>24</th>\n",
       "      <th>25</th>\n",
       "      <th>26</th>\n",
       "      <th>27</th>\n",
       "      <th>28</th>\n",
       "    </tr>\n",
       "  </thead>\n",
       "  <tbody>\n",
       "    <tr>\n",
       "      <td>count</td>\n",
       "      <td>75884.000000</td>\n",
       "      <td>75884.000000</td>\n",
       "      <td>75884.000000</td>\n",
       "      <td>75884.000000</td>\n",
       "      <td>75884.000000</td>\n",
       "      <td>75884.000000</td>\n",
       "      <td>75884.000000</td>\n",
       "      <td>75884.000000</td>\n",
       "      <td>75884.00000</td>\n",
       "      <td>75884.000000</td>\n",
       "      <td>...</td>\n",
       "      <td>75884.000000</td>\n",
       "      <td>75884.000000</td>\n",
       "      <td>75884.000000</td>\n",
       "      <td>75884.000000</td>\n",
       "      <td>75884.000000</td>\n",
       "      <td>75884.000000</td>\n",
       "      <td>75884.000000</td>\n",
       "      <td>75884.000000</td>\n",
       "      <td>75884.000000</td>\n",
       "      <td>75884.000000</td>\n",
       "    </tr>\n",
       "    <tr>\n",
       "      <td>mean</td>\n",
       "      <td>1.331163</td>\n",
       "      <td>108.187544</td>\n",
       "      <td>-22.121508</td>\n",
       "      <td>-1.435141</td>\n",
       "      <td>0.055242</td>\n",
       "      <td>5.014180</td>\n",
       "      <td>884.594592</td>\n",
       "      <td>0.198487</td>\n",
       "      <td>0.04889</td>\n",
       "      <td>0.206855</td>\n",
       "      <td>...</td>\n",
       "      <td>0.000514</td>\n",
       "      <td>0.063861</td>\n",
       "      <td>0.086751</td>\n",
       "      <td>0.132439</td>\n",
       "      <td>0.001621</td>\n",
       "      <td>0.000369</td>\n",
       "      <td>0.010964</td>\n",
       "      <td>0.003716</td>\n",
       "      <td>0.000343</td>\n",
       "      <td>0.000053</td>\n",
       "    </tr>\n",
       "    <tr>\n",
       "      <td>std</td>\n",
       "      <td>0.905974</td>\n",
       "      <td>105.077905</td>\n",
       "      <td>38.796969</td>\n",
       "      <td>8.373478</td>\n",
       "      <td>0.228454</td>\n",
       "      <td>2.314387</td>\n",
       "      <td>1047.375631</td>\n",
       "      <td>0.398864</td>\n",
       "      <td>0.21564</td>\n",
       "      <td>0.405053</td>\n",
       "      <td>...</td>\n",
       "      <td>0.022665</td>\n",
       "      <td>0.244506</td>\n",
       "      <td>0.281471</td>\n",
       "      <td>0.338970</td>\n",
       "      <td>0.040228</td>\n",
       "      <td>0.019206</td>\n",
       "      <td>0.104135</td>\n",
       "      <td>0.060848</td>\n",
       "      <td>0.018507</td>\n",
       "      <td>0.007260</td>\n",
       "    </tr>\n",
       "    <tr>\n",
       "      <td>min</td>\n",
       "      <td>1.000000</td>\n",
       "      <td>1.420000</td>\n",
       "      <td>-1175.100000</td>\n",
       "      <td>-534.300000</td>\n",
       "      <td>0.000000</td>\n",
       "      <td>1.000000</td>\n",
       "      <td>1.000000</td>\n",
       "      <td>0.000000</td>\n",
       "      <td>0.00000</td>\n",
       "      <td>0.000000</td>\n",
       "      <td>...</td>\n",
       "      <td>0.000000</td>\n",
       "      <td>0.000000</td>\n",
       "      <td>0.000000</td>\n",
       "      <td>0.000000</td>\n",
       "      <td>0.000000</td>\n",
       "      <td>0.000000</td>\n",
       "      <td>0.000000</td>\n",
       "      <td>0.000000</td>\n",
       "      <td>0.000000</td>\n",
       "      <td>0.000000</td>\n",
       "    </tr>\n",
       "    <tr>\n",
       "      <td>25%</td>\n",
       "      <td>1.000000</td>\n",
       "      <td>53.430000</td>\n",
       "      <td>-32.060000</td>\n",
       "      <td>0.000000</td>\n",
       "      <td>0.000000</td>\n",
       "      <td>4.000000</td>\n",
       "      <td>89.000000</td>\n",
       "      <td>0.000000</td>\n",
       "      <td>0.00000</td>\n",
       "      <td>0.000000</td>\n",
       "      <td>...</td>\n",
       "      <td>0.000000</td>\n",
       "      <td>0.000000</td>\n",
       "      <td>0.000000</td>\n",
       "      <td>0.000000</td>\n",
       "      <td>0.000000</td>\n",
       "      <td>0.000000</td>\n",
       "      <td>0.000000</td>\n",
       "      <td>0.000000</td>\n",
       "      <td>0.000000</td>\n",
       "      <td>0.000000</td>\n",
       "    </tr>\n",
       "    <tr>\n",
       "      <td>50%</td>\n",
       "      <td>1.000000</td>\n",
       "      <td>88.690000</td>\n",
       "      <td>-7.120000</td>\n",
       "      <td>0.000000</td>\n",
       "      <td>0.000000</td>\n",
       "      <td>5.000000</td>\n",
       "      <td>681.000000</td>\n",
       "      <td>0.000000</td>\n",
       "      <td>0.00000</td>\n",
       "      <td>0.000000</td>\n",
       "      <td>...</td>\n",
       "      <td>0.000000</td>\n",
       "      <td>0.000000</td>\n",
       "      <td>0.000000</td>\n",
       "      <td>0.000000</td>\n",
       "      <td>0.000000</td>\n",
       "      <td>0.000000</td>\n",
       "      <td>0.000000</td>\n",
       "      <td>0.000000</td>\n",
       "      <td>0.000000</td>\n",
       "      <td>0.000000</td>\n",
       "    </tr>\n",
       "    <tr>\n",
       "      <td>75%</td>\n",
       "      <td>1.000000</td>\n",
       "      <td>124.670000</td>\n",
       "      <td>0.000000</td>\n",
       "      <td>0.000000</td>\n",
       "      <td>0.000000</td>\n",
       "      <td>6.000000</td>\n",
       "      <td>1149.000000</td>\n",
       "      <td>0.000000</td>\n",
       "      <td>0.00000</td>\n",
       "      <td>0.000000</td>\n",
       "      <td>...</td>\n",
       "      <td>0.000000</td>\n",
       "      <td>0.000000</td>\n",
       "      <td>0.000000</td>\n",
       "      <td>0.000000</td>\n",
       "      <td>0.000000</td>\n",
       "      <td>0.000000</td>\n",
       "      <td>0.000000</td>\n",
       "      <td>0.000000</td>\n",
       "      <td>0.000000</td>\n",
       "      <td>0.000000</td>\n",
       "    </tr>\n",
       "    <tr>\n",
       "      <td>max</td>\n",
       "      <td>54.000000</td>\n",
       "      <td>3846.960000</td>\n",
       "      <td>0.000000</td>\n",
       "      <td>0.000000</td>\n",
       "      <td>1.000000</td>\n",
       "      <td>12.000000</td>\n",
       "      <td>5468.000000</td>\n",
       "      <td>1.000000</td>\n",
       "      <td>1.00000</td>\n",
       "      <td>1.000000</td>\n",
       "      <td>...</td>\n",
       "      <td>1.000000</td>\n",
       "      <td>1.000000</td>\n",
       "      <td>1.000000</td>\n",
       "      <td>1.000000</td>\n",
       "      <td>1.000000</td>\n",
       "      <td>1.000000</td>\n",
       "      <td>1.000000</td>\n",
       "      <td>1.000000</td>\n",
       "      <td>1.000000</td>\n",
       "      <td>1.000000</td>\n",
       "    </tr>\n",
       "  </tbody>\n",
       "</table>\n",
       "<p>8 rows × 37 columns</p>\n",
       "</div>"
      ],
      "text/plain": [
       "           quantity  selling_price  other_discount  coupon_discount  \\\n",
       "count  75884.000000   75884.000000    75884.000000     75884.000000   \n",
       "mean       1.331163     108.187544      -22.121508        -1.435141   \n",
       "std        0.905974     105.077905       38.796969         8.373478   \n",
       "min        1.000000       1.420000    -1175.100000      -534.300000   \n",
       "25%        1.000000      53.430000      -32.060000         0.000000   \n",
       "50%        1.000000      88.690000       -7.120000         0.000000   \n",
       "75%        1.000000     124.670000        0.000000         0.000000   \n",
       "max       54.000000    3846.960000        0.000000         0.000000   \n",
       "\n",
       "             rented  income_bracket         brand  campaign_type            0  \\\n",
       "count  75884.000000    75884.000000  75884.000000   75884.000000  75884.00000   \n",
       "mean       0.055242        5.014180    884.594592       0.198487      0.04889   \n",
       "std        0.228454        2.314387   1047.375631       0.398864      0.21564   \n",
       "min        0.000000        1.000000      1.000000       0.000000      0.00000   \n",
       "25%        0.000000        4.000000     89.000000       0.000000      0.00000   \n",
       "50%        0.000000        5.000000    681.000000       0.000000      0.00000   \n",
       "75%        0.000000        6.000000   1149.000000       0.000000      0.00000   \n",
       "max        1.000000       12.000000   5468.000000       1.000000      1.00000   \n",
       "\n",
       "                  1  ...            19            20            21  \\\n",
       "count  75884.000000  ...  75884.000000  75884.000000  75884.000000   \n",
       "mean       0.206855  ...      0.000514      0.063861      0.086751   \n",
       "std        0.405053  ...      0.022665      0.244506      0.281471   \n",
       "min        0.000000  ...      0.000000      0.000000      0.000000   \n",
       "25%        0.000000  ...      0.000000      0.000000      0.000000   \n",
       "50%        0.000000  ...      0.000000      0.000000      0.000000   \n",
       "75%        0.000000  ...      0.000000      0.000000      0.000000   \n",
       "max        1.000000  ...      1.000000      1.000000      1.000000   \n",
       "\n",
       "                 22            23            24            25            26  \\\n",
       "count  75884.000000  75884.000000  75884.000000  75884.000000  75884.000000   \n",
       "mean       0.132439      0.001621      0.000369      0.010964      0.003716   \n",
       "std        0.338970      0.040228      0.019206      0.104135      0.060848   \n",
       "min        0.000000      0.000000      0.000000      0.000000      0.000000   \n",
       "25%        0.000000      0.000000      0.000000      0.000000      0.000000   \n",
       "50%        0.000000      0.000000      0.000000      0.000000      0.000000   \n",
       "75%        0.000000      0.000000      0.000000      0.000000      0.000000   \n",
       "max        1.000000      1.000000      1.000000      1.000000      1.000000   \n",
       "\n",
       "                 27            28  \n",
       "count  75884.000000  75884.000000  \n",
       "mean       0.000343      0.000053  \n",
       "std        0.018507      0.007260  \n",
       "min        0.000000      0.000000  \n",
       "25%        0.000000      0.000000  \n",
       "50%        0.000000      0.000000  \n",
       "75%        0.000000      0.000000  \n",
       "max        1.000000      1.000000  \n",
       "\n",
       "[8 rows x 37 columns]"
      ]
     },
     "execution_count": 581,
     "metadata": {},
     "output_type": "execute_result"
    }
   ],
   "source": [
    "OH_X_train.describe()"
   ]
  },
  {
   "cell_type": "code",
   "execution_count": 582,
   "metadata": {},
   "outputs": [
    {
     "data": {
      "text/plain": [
       "(18971, 5)"
      ]
     },
     "execution_count": 582,
     "metadata": {},
     "output_type": "execute_result"
    }
   ],
   "source": [
    "cols_to_scale = ['quantity','selling_price','coupon_discount','income_bracket','brand']\n",
    "OH_X_train_left= OH_X_train.drop(cols_to_scale, axis=1)\n",
    "OH_X_valid_left= OH_X_valid.drop(cols_to_scale, axis=1)\n",
    "\n",
    "OH_X_train_scale = OH_X_train[cols_to_scale]\n",
    "OH_X_valid_scale = OH_X_valid[cols_to_scale]\n",
    "\n",
    "OH_X_valid_scale.shape"
   ]
  },
  {
   "cell_type": "code",
   "execution_count": 583,
   "metadata": {},
   "outputs": [
    {
     "data": {
      "text/plain": [
       "(75884, 6)"
      ]
     },
     "execution_count": 583,
     "metadata": {},
     "output_type": "execute_result"
    }
   ],
   "source": [
    "label_X_train_l = label_X_train.drop(cols_to_scale, axis=1)\n",
    "label_X_valid_l = label_X_valid.drop(cols_to_scale, axis=1)\n",
    "\n",
    "label_X_train_scale = label_X_train[cols_to_scale]\n",
    "label_X_valid_scale = label_X_valid[cols_to_scale]\n",
    "\n",
    "label_X_train_l.shape"
   ]
  },
  {
   "cell_type": "code",
   "execution_count": 584,
   "metadata": {},
   "outputs": [
    {
     "name": "stdout",
     "output_type": "stream",
     "text": [
      "<class 'list'>\n"
     ]
    },
    {
     "data": {
      "text/plain": [
       "(18971, 37)"
      ]
     },
     "execution_count": 584,
     "metadata": {},
     "output_type": "execute_result"
    }
   ],
   "source": [
    "print(type(cols_to_scale))\n",
    "OH_X_train_scaled = StandardScaler().fit_transform(OH_X_train_scale)\n",
    "OH_X_valid_scaled = StandardScaler().fit_transform(OH_X_valid_scale)\n",
    "\n",
    "train_scaled = pd.DataFrame(OH_X_train_scaled, columns=['quantity','selling_price','coupon_discount','income_bracket','brand'])\n",
    "train_scaled_v = pd.DataFrame(OH_X_valid_scaled, columns=['quantity','selling_price','coupon_discount','income_bracket','brand'])\n",
    "\n",
    "OH_X_train_s = pd.DataFrame(np.hstack([OH_X_train_scaled,OH_X_train_left]))\n",
    "OH_X_valid_s = pd.DataFrame(np.hstack([OH_X_valid_scaled,OH_X_valid_left]))\n",
    "\n",
    "#OH_X_train_s.columns = \n",
    "#OH_X_valid_s.columns = [cols_to_scale + OH_X_valid_left.columns]\n",
    "\n",
    "#OH_X_train_s = pd.concat([train_scaled, OH_X_train_left],axis=1)\n",
    "\n",
    "OH_X_valid_s.shape"
   ]
  },
  {
   "cell_type": "code",
   "execution_count": 585,
   "metadata": {},
   "outputs": [
    {
     "data": {
      "text/plain": [
       "(75884, 11)"
      ]
     },
     "execution_count": 585,
     "metadata": {},
     "output_type": "execute_result"
    }
   ],
   "source": [
    "label_X_train_scaled = StandardScaler().fit_transform(label_X_train_scale)\n",
    "label_X_valid_scaled = StandardScaler().fit_transform(label_X_valid_scale)\n",
    "\n",
    "label_X_train_s = pd.DataFrame(np.hstack([label_X_train_scaled,label_X_train_l]))#,columns = cols_to_scale)\n",
    "label_X_valid_s = pd.DataFrame(np.hstack([label_X_valid_scaled,label_X_valid_l]))#,columns = cols_to_scale)\n",
    "\n",
    "label_X_train_s.shape"
   ]
  },
  {
   "cell_type": "code",
   "execution_count": 586,
   "metadata": {},
   "outputs": [
    {
     "data": {
      "text/html": [
       "<div>\n",
       "<style scoped>\n",
       "    .dataframe tbody tr th:only-of-type {\n",
       "        vertical-align: middle;\n",
       "    }\n",
       "\n",
       "    .dataframe tbody tr th {\n",
       "        vertical-align: top;\n",
       "    }\n",
       "\n",
       "    .dataframe thead th {\n",
       "        text-align: right;\n",
       "    }\n",
       "</style>\n",
       "<table border=\"1\" class=\"dataframe\">\n",
       "  <thead>\n",
       "    <tr style=\"text-align: right;\">\n",
       "      <th></th>\n",
       "      <th>0</th>\n",
       "      <th>1</th>\n",
       "      <th>2</th>\n",
       "      <th>3</th>\n",
       "      <th>4</th>\n",
       "      <th>5</th>\n",
       "      <th>6</th>\n",
       "      <th>7</th>\n",
       "      <th>8</th>\n",
       "      <th>9</th>\n",
       "      <th>...</th>\n",
       "      <th>27</th>\n",
       "      <th>28</th>\n",
       "      <th>29</th>\n",
       "      <th>30</th>\n",
       "      <th>31</th>\n",
       "      <th>32</th>\n",
       "      <th>33</th>\n",
       "      <th>34</th>\n",
       "      <th>35</th>\n",
       "      <th>36</th>\n",
       "    </tr>\n",
       "  </thead>\n",
       "  <tbody>\n",
       "    <tr>\n",
       "      <td>0</td>\n",
       "      <td>-0.365536</td>\n",
       "      <td>3.373828</td>\n",
       "      <td>0.171392</td>\n",
       "      <td>-1.734458</td>\n",
       "      <td>-0.791120</td>\n",
       "      <td>0.00</td>\n",
       "      <td>0.0</td>\n",
       "      <td>0.0</td>\n",
       "      <td>0.0</td>\n",
       "      <td>0.0</td>\n",
       "      <td>...</td>\n",
       "      <td>0.0</td>\n",
       "      <td>0.0</td>\n",
       "      <td>0.0</td>\n",
       "      <td>1.0</td>\n",
       "      <td>0.0</td>\n",
       "      <td>0.0</td>\n",
       "      <td>0.0</td>\n",
       "      <td>0.0</td>\n",
       "      <td>0.0</td>\n",
       "      <td>0.0</td>\n",
       "    </tr>\n",
       "    <tr>\n",
       "      <td>1</td>\n",
       "      <td>-0.365536</td>\n",
       "      <td>-0.351623</td>\n",
       "      <td>0.171392</td>\n",
       "      <td>-0.006127</td>\n",
       "      <td>-0.162879</td>\n",
       "      <td>-13.89</td>\n",
       "      <td>0.0</td>\n",
       "      <td>0.0</td>\n",
       "      <td>0.0</td>\n",
       "      <td>1.0</td>\n",
       "      <td>...</td>\n",
       "      <td>0.0</td>\n",
       "      <td>0.0</td>\n",
       "      <td>0.0</td>\n",
       "      <td>0.0</td>\n",
       "      <td>0.0</td>\n",
       "      <td>0.0</td>\n",
       "      <td>0.0</td>\n",
       "      <td>0.0</td>\n",
       "      <td>0.0</td>\n",
       "      <td>0.0</td>\n",
       "    </tr>\n",
       "    <tr>\n",
       "      <td>2</td>\n",
       "      <td>-0.365536</td>\n",
       "      <td>-0.694038</td>\n",
       "      <td>0.171392</td>\n",
       "      <td>-0.438209</td>\n",
       "      <td>0.375613</td>\n",
       "      <td>0.00</td>\n",
       "      <td>0.0</td>\n",
       "      <td>0.0</td>\n",
       "      <td>0.0</td>\n",
       "      <td>0.0</td>\n",
       "      <td>...</td>\n",
       "      <td>0.0</td>\n",
       "      <td>0.0</td>\n",
       "      <td>1.0</td>\n",
       "      <td>0.0</td>\n",
       "      <td>0.0</td>\n",
       "      <td>0.0</td>\n",
       "      <td>0.0</td>\n",
       "      <td>0.0</td>\n",
       "      <td>0.0</td>\n",
       "      <td>0.0</td>\n",
       "    </tr>\n",
       "    <tr>\n",
       "      <td>3</td>\n",
       "      <td>-0.365536</td>\n",
       "      <td>-0.117700</td>\n",
       "      <td>0.171392</td>\n",
       "      <td>-0.438209</td>\n",
       "      <td>-0.615442</td>\n",
       "      <td>-10.69</td>\n",
       "      <td>0.0</td>\n",
       "      <td>0.0</td>\n",
       "      <td>0.0</td>\n",
       "      <td>0.0</td>\n",
       "      <td>...</td>\n",
       "      <td>0.0</td>\n",
       "      <td>0.0</td>\n",
       "      <td>0.0</td>\n",
       "      <td>0.0</td>\n",
       "      <td>0.0</td>\n",
       "      <td>0.0</td>\n",
       "      <td>0.0</td>\n",
       "      <td>0.0</td>\n",
       "      <td>0.0</td>\n",
       "      <td>0.0</td>\n",
       "    </tr>\n",
       "    <tr>\n",
       "      <td>4</td>\n",
       "      <td>-0.365536</td>\n",
       "      <td>-0.219434</td>\n",
       "      <td>0.171392</td>\n",
       "      <td>-0.006127</td>\n",
       "      <td>-0.791120</td>\n",
       "      <td>0.00</td>\n",
       "      <td>0.0</td>\n",
       "      <td>0.0</td>\n",
       "      <td>0.0</td>\n",
       "      <td>0.0</td>\n",
       "      <td>...</td>\n",
       "      <td>0.0</td>\n",
       "      <td>0.0</td>\n",
       "      <td>0.0</td>\n",
       "      <td>0.0</td>\n",
       "      <td>0.0</td>\n",
       "      <td>0.0</td>\n",
       "      <td>0.0</td>\n",
       "      <td>0.0</td>\n",
       "      <td>0.0</td>\n",
       "      <td>0.0</td>\n",
       "    </tr>\n",
       "  </tbody>\n",
       "</table>\n",
       "<p>5 rows × 37 columns</p>\n",
       "</div>"
      ],
      "text/plain": [
       "         0         1         2         3         4      5    6    7    8   \\\n",
       "0 -0.365536  3.373828  0.171392 -1.734458 -0.791120   0.00  0.0  0.0  0.0   \n",
       "1 -0.365536 -0.351623  0.171392 -0.006127 -0.162879 -13.89  0.0  0.0  0.0   \n",
       "2 -0.365536 -0.694038  0.171392 -0.438209  0.375613   0.00  0.0  0.0  0.0   \n",
       "3 -0.365536 -0.117700  0.171392 -0.438209 -0.615442 -10.69  0.0  0.0  0.0   \n",
       "4 -0.365536 -0.219434  0.171392 -0.006127 -0.791120   0.00  0.0  0.0  0.0   \n",
       "\n",
       "    9   ...   27   28   29   30   31   32   33   34   35   36  \n",
       "0  0.0  ...  0.0  0.0  0.0  1.0  0.0  0.0  0.0  0.0  0.0  0.0  \n",
       "1  1.0  ...  0.0  0.0  0.0  0.0  0.0  0.0  0.0  0.0  0.0  0.0  \n",
       "2  0.0  ...  0.0  0.0  1.0  0.0  0.0  0.0  0.0  0.0  0.0  0.0  \n",
       "3  0.0  ...  0.0  0.0  0.0  0.0  0.0  0.0  0.0  0.0  0.0  0.0  \n",
       "4  0.0  ...  0.0  0.0  0.0  0.0  0.0  0.0  0.0  0.0  0.0  0.0  \n",
       "\n",
       "[5 rows x 37 columns]"
      ]
     },
     "execution_count": 586,
     "metadata": {},
     "output_type": "execute_result"
    }
   ],
   "source": [
    "OH_X_train_s.dropna()\n",
    "OH_X_train_s.head()"
   ]
  },
  {
   "cell_type": "code",
   "execution_count": 587,
   "metadata": {},
   "outputs": [],
   "source": [
    "clf = RandomForestClassifier()"
   ]
  },
  {
   "cell_type": "code",
   "execution_count": 588,
   "metadata": {},
   "outputs": [],
   "source": [
    "tree = DecisionTreeClassifier()"
   ]
  },
  {
   "cell_type": "code",
   "execution_count": 589,
   "metadata": {},
   "outputs": [],
   "source": [
    "svm = SVC()"
   ]
  },
  {
   "cell_type": "code",
   "execution_count": 590,
   "metadata": {},
   "outputs": [],
   "source": [
    "def score_model_for(model,X_train,X_valid,y_train,y_valid):\n",
    "    model.fit(X_train, y_train)\n",
    "    preds = model.predict(X_valid)\n",
    "    return mean_absolute_error(y_valid, preds)"
   ]
  },
  {
   "cell_type": "code",
   "execution_count": 591,
   "metadata": {},
   "outputs": [
    {
     "name": "stderr",
     "output_type": "stream",
     "text": [
      "C:\\Users\\vh6tgd\\AppData\\Local\\Continuum\\anaconda3\\lib\\site-packages\\sklearn\\ensemble\\forest.py:245: FutureWarning: The default value of n_estimators will change from 10 in version 0.20 to 100 in 0.22.\n",
      "  \"10 in version 0.20 to 100 in 0.22.\", FutureWarning)\n"
     ]
    },
    {
     "name": "stdout",
     "output_type": "stream",
     "text": [
      "0.06757682778978441\n",
      "0.07137209424911707\n",
      "0.07875177903115281\n",
      "0.09092825892151178\n"
     ]
    }
   ],
   "source": [
    "print(score_model_for(clf,label_X_train,label_X_valid,y_train,y_valid))\n",
    "print(score_model_for(tree,label_X_train,label_X_valid,y_train,y_valid))\n",
    "#print(score_model_for(svm,label_X_train,label_X_valid,y_train,y_valid))\n",
    "print(score_model_for(clf,label_X_train_s,label_X_valid_s,y_train,y_valid))\n",
    "print(score_model_for(tree,label_X_train_s,label_X_valid_s,y_train,y_valid))\n"
   ]
  },
  {
   "cell_type": "code",
   "execution_count": 592,
   "metadata": {},
   "outputs": [
    {
     "name": "stdout",
     "output_type": "stream",
     "text": [
      "[[15644     0]\n",
      " [ 3327     0]]\n",
      "[[11477  4167]\n",
      " [ 2491   836]]\n",
      "[[15176   468]\n",
      " [ 1026  2301]]\n",
      "[[14920   724]\n",
      " [ 1001  2326]]\n"
     ]
    }
   ],
   "source": [
    "print(confusion_matrix(y_valid,clf.predict(label_X_valid)))\n",
    "print(confusion_matrix(y_valid,tree.predict(label_X_valid)))\n",
    "\n",
    "print(confusion_matrix(y_valid,clf.predict(label_X_valid_s)))\n",
    "print(confusion_matrix(y_valid,tree.predict(label_X_valid_s)))\n",
    "\n",
    "#print(confusion_matrix(y_valid,svm.predict(label_X_valid)))"
   ]
  },
  {
   "cell_type": "code",
   "execution_count": 593,
   "metadata": {},
   "outputs": [
    {
     "name": "stdout",
     "output_type": "stream",
     "text": [
      "0.5\n",
      "0.49245666292931767\n",
      "0.8308492220619331\n",
      "0.8264243099987649\n"
     ]
    }
   ],
   "source": [
    "print(roc_auc_score(y_valid,clf.predict(label_X_valid)))\n",
    "print(roc_auc_score(y_valid,tree.predict(label_X_valid)))\n",
    "\n",
    "print(roc_auc_score(y_valid,clf.predict(label_X_valid_s)))\n",
    "print(roc_auc_score(y_valid,tree.predict(label_X_valid_s)))\n",
    "#print(roc_auc_score(y_valid,svm.predict(label_X_valid)))"
   ]
  },
  {
   "cell_type": "code",
   "execution_count": 594,
   "metadata": {},
   "outputs": [
    {
     "name": "stdout",
     "output_type": "stream",
     "text": [
      "0.06130409572505403\n",
      "0.06625902693584945\n",
      "0.06631173897000685\n",
      "0.08064941226081915\n"
     ]
    }
   ],
   "source": [
    "print(score_model_for(clf,OH_X_train,OH_X_valid,y_train,y_valid))\n",
    "print(score_model_for(tree,OH_X_train,OH_X_valid,y_train,y_valid))\n",
    "\n",
    "print(score_model_for(clf,OH_X_train_s,OH_X_valid_s,y_train,y_valid))\n",
    "print(score_model_for(tree,OH_X_train_s,OH_X_valid_s,y_train,y_valid))\n",
    "#score_model_for(svm,OH_X_train,OH_X_valid,y_train,y_valid)"
   ]
  },
  {
   "cell_type": "code",
   "execution_count": 595,
   "metadata": {},
   "outputs": [
    {
     "name": "stdout",
     "output_type": "stream",
     "text": [
      "[[11199  4445]\n",
      " [ 1732  1595]]\n",
      "[[11704  3940]\n",
      " [ 2249  1078]]\n",
      "[[15198   446]\n",
      " [  812  2515]]\n",
      "[[14999   645]\n",
      " [  885  2442]]\n"
     ]
    }
   ],
   "source": [
    "print(confusion_matrix(y_valid,clf.predict(OH_X_valid)))\n",
    "print(confusion_matrix(y_valid,tree.predict(OH_X_valid)))\n",
    "\n",
    "print(confusion_matrix(y_valid,clf.predict(OH_X_valid_s)))\n",
    "print(confusion_matrix(y_valid,tree.predict(OH_X_valid_s)))\n",
    "#print(confusion_matrix(y_valid,svm.predict(OH_X_valid)))"
   ]
  },
  {
   "cell_type": "code",
   "execution_count": 596,
   "metadata": {},
   "outputs": [
    {
     "name": "stdout",
     "output_type": "stream",
     "text": [
      "0.5976381941080536\n",
      "0.5360809419256853\n",
      "0.8637134731392355\n",
      "0.8463823626178412\n"
     ]
    }
   ],
   "source": [
    "print(roc_auc_score(y_valid,clf.predict(OH_X_valid)))\n",
    "print(roc_auc_score(y_valid,tree.predict(OH_X_valid)))\n",
    "\n",
    "print(roc_auc_score(y_valid,clf.predict(OH_X_valid_s)))\n",
    "print(roc_auc_score(y_valid,tree.predict(OH_X_valid_s)))\n",
    "#print(roc_auc_score(y_valid,svm.predict(OH_X_valid)))"
   ]
  },
  {
   "cell_type": "code",
   "execution_count": 597,
   "metadata": {},
   "outputs": [],
   "source": [
    "from sklearn.model_selection import GridSearchCV"
   ]
  },
  {
   "cell_type": "code",
   "execution_count": 598,
   "metadata": {},
   "outputs": [],
   "source": [
    "from sklearn.model_selection import RandomizedSearchCV\n",
    "from scipy.stats import randint as sp_randint"
   ]
  },
  {
   "cell_type": "code",
   "execution_count": 599,
   "metadata": {},
   "outputs": [
    {
     "name": "stderr",
     "output_type": "stream",
     "text": [
      "C:\\Users\\vh6tgd\\AppData\\Local\\Continuum\\anaconda3\\lib\\site-packages\\sklearn\\model_selection\\_split.py:1978: FutureWarning: The default value of cv will change from 3 to 5 in version 0.22. Specify it explicitly to silence this warning.\n",
      "  warnings.warn(CV_WARNING, FutureWarning)\n"
     ]
    },
    {
     "name": "stdout",
     "output_type": "stream",
     "text": [
      "{'max_features': 'log2'}\n"
     ]
    }
   ],
   "source": [
    "param_grid = {'max_features': ['auto', 'sqrt', 'log2']}\n",
    "\n",
    "grid_search = GridSearchCV(clf, param_grid)\n",
    "grid_search.fit(OH_X_train_s,y_train)\n",
    "\n",
    "# Print the optimal parameters\n",
    "print(grid_search.best_params_)"
   ]
  },
  {
   "cell_type": "code",
   "execution_count": 600,
   "metadata": {},
   "outputs": [
    {
     "name": "stderr",
     "output_type": "stream",
     "text": [
      "C:\\Users\\vh6tgd\\AppData\\Local\\Continuum\\anaconda3\\lib\\site-packages\\sklearn\\model_selection\\_split.py:1978: FutureWarning: The default value of cv will change from 3 to 5 in version 0.22. Specify it explicitly to silence this warning.\n",
      "  warnings.warn(CV_WARNING, FutureWarning)\n"
     ]
    },
    {
     "name": "stdout",
     "output_type": "stream",
     "text": [
      "{'max_features': 10, 'max_depth': None, 'criterion': 'gini', 'bootstrap': False}\n"
     ]
    }
   ],
   "source": [
    "param_dist = {\"max_depth\": [3, None],\n",
    "              \"max_features\": [1, 3, 10],\n",
    "              \"bootstrap\": [True, False],\n",
    "              \"criterion\": [\"gini\", \"entropy\"]}\n",
    "\n",
    "random_search = RandomizedSearchCV(clf,param_dist)\n",
    "\n",
    "random_search.fit(OH_X_train_s,y_train)\n",
    "#random_search.fit(label_X_train_s,y_train)\n",
    "print(random_search.best_params_)"
   ]
  },
  {
   "cell_type": "code",
   "execution_count": 815,
   "metadata": {},
   "outputs": [
    {
     "ename": "TypeError",
     "evalue": "__init__() got an unexpected keyword argument 'bootstrap'",
     "output_type": "error",
     "traceback": [
      "\u001b[1;31m---------------------------------------------------------------------------\u001b[0m",
      "\u001b[1;31mTypeError\u001b[0m                                 Traceback (most recent call last)",
      "\u001b[1;32m<ipython-input-815-7063ab27e34d>\u001b[0m in \u001b[0;36m<module>\u001b[1;34m\u001b[0m\n\u001b[1;32m----> 1\u001b[1;33m \u001b[0mclf\u001b[0m \u001b[1;33m=\u001b[0m \u001b[0mDecisionTreeClassifier\u001b[0m\u001b[1;33m(\u001b[0m\u001b[0mmax_features\u001b[0m\u001b[1;33m=\u001b[0m \u001b[1;36m10\u001b[0m\u001b[1;33m,\u001b[0m\u001b[0mmax_depth\u001b[0m\u001b[1;33m=\u001b[0m\u001b[1;32mNone\u001b[0m\u001b[1;33m,\u001b[0m\u001b[0mcriterion\u001b[0m\u001b[1;33m=\u001b[0m \u001b[1;34m'gini'\u001b[0m\u001b[1;33m,\u001b[0m\u001b[0mbootstrap\u001b[0m\u001b[1;33m=\u001b[0m\u001b[1;32mFalse\u001b[0m\u001b[1;33m)\u001b[0m\u001b[1;33m\u001b[0m\u001b[1;33m\u001b[0m\u001b[0m\n\u001b[0m\u001b[0;32m      2\u001b[0m \u001b[0mclf\u001b[0m\u001b[1;33m.\u001b[0m\u001b[0mfit\u001b[0m\u001b[1;33m(\u001b[0m\u001b[0mOH_X_train\u001b[0m\u001b[1;33m,\u001b[0m\u001b[0my_train\u001b[0m\u001b[1;33m)\u001b[0m\u001b[1;33m\u001b[0m\u001b[1;33m\u001b[0m\u001b[0m\n",
      "\u001b[1;31mTypeError\u001b[0m: __init__() got an unexpected keyword argument 'bootstrap'"
     ]
    }
   ],
   "source": [
    "#clf = RandomForestClassifier(max_features= 10,max_depth=None,criterion= 'gini',bootstrap=False)\n",
    "#clf.fit(OH_X_train,y_train)"
   ]
  },
  {
   "cell_type": "code",
   "execution_count": 817,
   "metadata": {},
   "outputs": [
    {
     "data": {
      "text/plain": [
       "DecisionTreeClassifier(class_weight=None, criterion='gini', max_depth=None,\n",
       "                       max_features=None, max_leaf_nodes=None,\n",
       "                       min_impurity_decrease=0.0, min_impurity_split=None,\n",
       "                       min_samples_leaf=1, min_samples_split=2,\n",
       "                       min_weight_fraction_leaf=0.0, presort=False,\n",
       "                       random_state=None, splitter='best')"
      ]
     },
     "execution_count": 817,
     "metadata": {},
     "output_type": "execute_result"
    }
   ],
   "source": [
    "clf = DecisionTreeClassifier()\n",
    "clf.fit(OH_X_train,y_train)"
   ]
  },
  {
   "cell_type": "code",
   "execution_count": 818,
   "metadata": {},
   "outputs": [
    {
     "name": "stdout",
     "output_type": "stream",
     "text": [
      "(75884, 37)\n",
      "(18971, 3)\n"
     ]
    },
    {
     "data": {
      "text/plain": [
       "(18971, 40)"
      ]
     },
     "execution_count": 818,
     "metadata": {},
     "output_type": "execute_result"
    }
   ],
   "source": [
    "print(OH_X_train_s.shape)\n",
    "print(X_valid_with_ids.shape)\n",
    "type(X_train_with_ids.columns)\n",
    "list1 = [X_train_with_ids.columns]#.add(OH_X_train_s.columns)\n",
    "list2 = [OH_X_train_s.columns]\n",
    "all_columns = list1 + list2\n",
    "\n",
    "#X_train_all_cols = pd.concat([X_train_with_ids, OH_X_train_s], axis=1)\n",
    "X_train_all_cols = X_train_with_ids.join(OH_X_train)\n",
    "X_valid_all_cols = X_valid_with_ids.join(OH_X_valid)\n",
    "\n",
    "#X_train_all_cols = pd.DataFrame(np.column_stack([X_train_with_ids,OH_X_train_s]),columns = all_columns)\n",
    "#X_valid_all_cols = pd.DataFrame(np.hstack([X_valid_with_ids,OH_X_valid_s]),columns = all_columns)\n",
    "X_valid_all_cols.shape\n",
    "#type(np.hstack([X_train_with_ids,OH_X_train_s]))"
   ]
  },
  {
   "cell_type": "code",
   "execution_count": 819,
   "metadata": {},
   "outputs": [
    {
     "name": "stdout",
     "output_type": "stream",
     "text": [
      "<class 'pandas.core.frame.DataFrame'>\n",
      "Int64Index: 75884 entries, 60755 to 68268\n",
      "Data columns (total 37 columns):\n",
      "quantity           75884 non-null int64\n",
      "selling_price      75884 non-null float64\n",
      "other_discount     75884 non-null float64\n",
      "coupon_discount    75884 non-null float64\n",
      "rented             75884 non-null int64\n",
      "income_bracket     75884 non-null int64\n",
      "brand              75884 non-null int64\n",
      "campaign_type      75884 non-null int64\n",
      "0                  75884 non-null float64\n",
      "1                  75884 non-null float64\n",
      "2                  75884 non-null float64\n",
      "3                  75884 non-null float64\n",
      "4                  75884 non-null float64\n",
      "5                  75884 non-null float64\n",
      "6                  75884 non-null float64\n",
      "7                  75884 non-null float64\n",
      "8                  75884 non-null float64\n",
      "9                  75884 non-null float64\n",
      "10                 75884 non-null float64\n",
      "11                 75884 non-null float64\n",
      "12                 75884 non-null float64\n",
      "13                 75884 non-null float64\n",
      "14                 75884 non-null float64\n",
      "15                 75884 non-null float64\n",
      "16                 75884 non-null float64\n",
      "17                 75884 non-null float64\n",
      "18                 75884 non-null float64\n",
      "19                 75884 non-null float64\n",
      "20                 75884 non-null float64\n",
      "21                 75884 non-null float64\n",
      "22                 75884 non-null float64\n",
      "23                 75884 non-null float64\n",
      "24                 75884 non-null float64\n",
      "25                 75884 non-null float64\n",
      "26                 75884 non-null float64\n",
      "27                 75884 non-null float64\n",
      "28                 75884 non-null float64\n",
      "dtypes: float64(32), int64(5)\n",
      "memory usage: 24.5 MB\n"
     ]
    }
   ],
   "source": [
    "OH_X_train.info()"
   ]
  },
  {
   "cell_type": "code",
   "execution_count": 820,
   "metadata": {},
   "outputs": [
    {
     "name": "stdout",
     "output_type": "stream",
     "text": [
      "(94855, 40)\n"
     ]
    }
   ],
   "source": [
    "\n",
    "#X_with_encodings = pd.DataFrame(np.hstack([X_train_all_cols,X_valid_all_cols]))\n",
    "X_with_encodings = X_train_all_cols.append(X_valid_all_cols)\n",
    "#rained_set = pd.DataFrame(X_with_encodings, columns=[X_train_all_cols.columns])\n",
    "print(X_with_encodings.shape)\n",
    "trained_set = X_with_encodings"
   ]
  },
  {
   "cell_type": "code",
   "execution_count": 821,
   "metadata": {},
   "outputs": [],
   "source": [
    "X_customers_coupon_campaign = trained_set[['customer_id','coupon_id','campaign_id']] \n",
    "X_customers = trained_set[['customer_id']]\n",
    "X_customers_coupon = trained_set[['customer_id','coupon_id']]\n",
    "X_customers_campaign = trained_set[['customer_id','campaign_id']]\n",
    "X_campaign_coupon = trained_set[['coupon_id','campaign_id']]"
   ]
  },
  {
   "cell_type": "code",
   "execution_count": 822,
   "metadata": {},
   "outputs": [],
   "source": [
    "merged_with_test_customers = pd.merge(trained_set,test,on=['customer_id']) "
   ]
  },
  {
   "cell_type": "code",
   "execution_count": 823,
   "metadata": {},
   "outputs": [
    {
     "data": {
      "text/plain": [
       "(5387543, 43)"
      ]
     },
     "execution_count": 823,
     "metadata": {},
     "output_type": "execute_result"
    }
   ],
   "source": [
    "merged_with_test_customers.shape"
   ]
  },
  {
   "cell_type": "code",
   "execution_count": 824,
   "metadata": {},
   "outputs": [],
   "source": [
    "test_customers = test[['customer_id']]"
   ]
  },
  {
   "cell_type": "code",
   "execution_count": 825,
   "metadata": {},
   "outputs": [],
   "source": [
    "test_customer_coupons_in_X = pd.merge(test, X_customers_coupon, on= ['customer_id','coupon_id'])"
   ]
  },
  {
   "cell_type": "code",
   "execution_count": 826,
   "metadata": {},
   "outputs": [],
   "source": [
    "test_data_in_X_encodings = pd.merge(test, X_with_encodings, on= ['customer_id','coupon_id','campaign_id'])#,how='left')"
   ]
  },
  {
   "cell_type": "code",
   "execution_count": 827,
   "metadata": {},
   "outputs": [
    {
     "data": {
      "text/plain": [
       "(0, 41)"
      ]
     },
     "execution_count": 827,
     "metadata": {},
     "output_type": "execute_result"
    }
   ],
   "source": [
    "test_data_in_X_encodings.shape"
   ]
  },
  {
   "cell_type": "code",
   "execution_count": 828,
   "metadata": {},
   "outputs": [],
   "source": [
    "test_customer_coupons_in_X_encodings = pd.merge(test, X_with_encodings, on= ['customer_id','coupon_id'])\n",
    "#test_customer_coupons_in_X_encodings_1 = pd.concat([test, X_with_encodings], on= ['customer_id','coupon_id'],ignore_index=True)#,how='left'),ignore_index=True)#,how='left')"
   ]
  },
  {
   "cell_type": "code",
   "execution_count": 829,
   "metadata": {},
   "outputs": [
    {
     "name": "stdout",
     "output_type": "stream",
     "text": [
      "(4942, 42)\n"
     ]
    },
    {
     "data": {
      "text/html": [
       "<div>\n",
       "<style scoped>\n",
       "    .dataframe tbody tr th:only-of-type {\n",
       "        vertical-align: middle;\n",
       "    }\n",
       "\n",
       "    .dataframe tbody tr th {\n",
       "        vertical-align: top;\n",
       "    }\n",
       "\n",
       "    .dataframe thead th {\n",
       "        text-align: right;\n",
       "    }\n",
       "</style>\n",
       "<table border=\"1\" class=\"dataframe\">\n",
       "  <thead>\n",
       "    <tr style=\"text-align: right;\">\n",
       "      <th></th>\n",
       "      <th>id</th>\n",
       "      <th>campaign_id_x</th>\n",
       "      <th>coupon_id</th>\n",
       "      <th>customer_id</th>\n",
       "      <th>campaign_id_y</th>\n",
       "      <th>quantity</th>\n",
       "      <th>selling_price</th>\n",
       "      <th>other_discount</th>\n",
       "      <th>coupon_discount</th>\n",
       "      <th>rented</th>\n",
       "      <th>...</th>\n",
       "      <th>19</th>\n",
       "      <th>20</th>\n",
       "      <th>21</th>\n",
       "      <th>22</th>\n",
       "      <th>23</th>\n",
       "      <th>24</th>\n",
       "      <th>25</th>\n",
       "      <th>26</th>\n",
       "      <th>27</th>\n",
       "      <th>28</th>\n",
       "    </tr>\n",
       "  </thead>\n",
       "  <tbody>\n",
       "    <tr>\n",
       "      <td>0</td>\n",
       "      <td>114</td>\n",
       "      <td>19</td>\n",
       "      <td>689</td>\n",
       "      <td>28</td>\n",
       "      <td>5</td>\n",
       "      <td>1</td>\n",
       "      <td>569.56</td>\n",
       "      <td>0.0</td>\n",
       "      <td>0.0</td>\n",
       "      <td>0</td>\n",
       "      <td>...</td>\n",
       "      <td>0.0</td>\n",
       "      <td>0.0</td>\n",
       "      <td>0.0</td>\n",
       "      <td>1.0</td>\n",
       "      <td>0.0</td>\n",
       "      <td>0.0</td>\n",
       "      <td>0.0</td>\n",
       "      <td>0.0</td>\n",
       "      <td>0.0</td>\n",
       "      <td>0.0</td>\n",
       "    </tr>\n",
       "    <tr>\n",
       "      <td>1</td>\n",
       "      <td>114</td>\n",
       "      <td>19</td>\n",
       "      <td>689</td>\n",
       "      <td>28</td>\n",
       "      <td>5</td>\n",
       "      <td>1</td>\n",
       "      <td>377.22</td>\n",
       "      <td>0.0</td>\n",
       "      <td>0.0</td>\n",
       "      <td>0</td>\n",
       "      <td>...</td>\n",
       "      <td>0.0</td>\n",
       "      <td>0.0</td>\n",
       "      <td>0.0</td>\n",
       "      <td>1.0</td>\n",
       "      <td>0.0</td>\n",
       "      <td>0.0</td>\n",
       "      <td>0.0</td>\n",
       "      <td>0.0</td>\n",
       "      <td>0.0</td>\n",
       "      <td>0.0</td>\n",
       "    </tr>\n",
       "    <tr>\n",
       "      <td>2</td>\n",
       "      <td>114</td>\n",
       "      <td>19</td>\n",
       "      <td>689</td>\n",
       "      <td>28</td>\n",
       "      <td>5</td>\n",
       "      <td>1</td>\n",
       "      <td>533.94</td>\n",
       "      <td>0.0</td>\n",
       "      <td>0.0</td>\n",
       "      <td>0</td>\n",
       "      <td>...</td>\n",
       "      <td>0.0</td>\n",
       "      <td>0.0</td>\n",
       "      <td>0.0</td>\n",
       "      <td>1.0</td>\n",
       "      <td>0.0</td>\n",
       "      <td>0.0</td>\n",
       "      <td>0.0</td>\n",
       "      <td>0.0</td>\n",
       "      <td>0.0</td>\n",
       "      <td>0.0</td>\n",
       "    </tr>\n",
       "    <tr>\n",
       "      <td>3</td>\n",
       "      <td>114</td>\n",
       "      <td>19</td>\n",
       "      <td>689</td>\n",
       "      <td>28</td>\n",
       "      <td>5</td>\n",
       "      <td>1</td>\n",
       "      <td>533.94</td>\n",
       "      <td>0.0</td>\n",
       "      <td>0.0</td>\n",
       "      <td>0</td>\n",
       "      <td>...</td>\n",
       "      <td>0.0</td>\n",
       "      <td>0.0</td>\n",
       "      <td>0.0</td>\n",
       "      <td>1.0</td>\n",
       "      <td>0.0</td>\n",
       "      <td>0.0</td>\n",
       "      <td>0.0</td>\n",
       "      <td>0.0</td>\n",
       "      <td>0.0</td>\n",
       "      <td>0.0</td>\n",
       "    </tr>\n",
       "    <tr>\n",
       "      <td>4</td>\n",
       "      <td>114</td>\n",
       "      <td>19</td>\n",
       "      <td>689</td>\n",
       "      <td>28</td>\n",
       "      <td>5</td>\n",
       "      <td>1</td>\n",
       "      <td>533.94</td>\n",
       "      <td>0.0</td>\n",
       "      <td>0.0</td>\n",
       "      <td>0</td>\n",
       "      <td>...</td>\n",
       "      <td>0.0</td>\n",
       "      <td>0.0</td>\n",
       "      <td>0.0</td>\n",
       "      <td>1.0</td>\n",
       "      <td>0.0</td>\n",
       "      <td>0.0</td>\n",
       "      <td>0.0</td>\n",
       "      <td>0.0</td>\n",
       "      <td>0.0</td>\n",
       "      <td>0.0</td>\n",
       "    </tr>\n",
       "  </tbody>\n",
       "</table>\n",
       "<p>5 rows × 42 columns</p>\n",
       "</div>"
      ],
      "text/plain": [
       "    id  campaign_id_x  coupon_id  customer_id  campaign_id_y  quantity  \\\n",
       "0  114             19        689           28              5         1   \n",
       "1  114             19        689           28              5         1   \n",
       "2  114             19        689           28              5         1   \n",
       "3  114             19        689           28              5         1   \n",
       "4  114             19        689           28              5         1   \n",
       "\n",
       "   selling_price  other_discount  coupon_discount  rented  ...   19   20   21  \\\n",
       "0         569.56             0.0              0.0       0  ...  0.0  0.0  0.0   \n",
       "1         377.22             0.0              0.0       0  ...  0.0  0.0  0.0   \n",
       "2         533.94             0.0              0.0       0  ...  0.0  0.0  0.0   \n",
       "3         533.94             0.0              0.0       0  ...  0.0  0.0  0.0   \n",
       "4         533.94             0.0              0.0       0  ...  0.0  0.0  0.0   \n",
       "\n",
       "    22   23   24   25   26   27   28  \n",
       "0  1.0  0.0  0.0  0.0  0.0  0.0  0.0  \n",
       "1  1.0  0.0  0.0  0.0  0.0  0.0  0.0  \n",
       "2  1.0  0.0  0.0  0.0  0.0  0.0  0.0  \n",
       "3  1.0  0.0  0.0  0.0  0.0  0.0  0.0  \n",
       "4  1.0  0.0  0.0  0.0  0.0  0.0  0.0  \n",
       "\n",
       "[5 rows x 42 columns]"
      ]
     },
     "execution_count": 829,
     "metadata": {},
     "output_type": "execute_result"
    }
   ],
   "source": [
    "print(test_customer_coupons_in_X_encodings.shape)\n",
    "test_customer_coupons_in_X_encodings.head()"
   ]
  },
  {
   "cell_type": "code",
   "execution_count": 830,
   "metadata": {},
   "outputs": [
    {
     "data": {
      "text/plain": [
       "(372, 42)"
      ]
     },
     "execution_count": 830,
     "metadata": {},
     "output_type": "execute_result"
    }
   ],
   "source": [
    "x = test_customer_coupons_in_X_encodings.drop_duplicates(subset = ['customer_id','coupon_id'])\n",
    "x.shape"
   ]
  },
  {
   "cell_type": "code",
   "execution_count": 831,
   "metadata": {},
   "outputs": [
    {
     "data": {
      "text/plain": [
       "(8199, 40)"
      ]
     },
     "execution_count": 831,
     "metadata": {},
     "output_type": "execute_result"
    }
   ],
   "source": [
    "y = X_with_encodings.drop_duplicates(subset = ['customer_id','coupon_id'])\n",
    "y.shape"
   ]
  },
  {
   "cell_type": "code",
   "execution_count": 832,
   "metadata": {},
   "outputs": [
    {
     "name": "stdout",
     "output_type": "stream",
     "text": [
      "(386,)\n",
      "(4869, 40)\n",
      "       customer_id  coupon_id  campaign_id  quantity  selling_price  \\\n",
      "71256         1070        754           13         1         102.59   \n",
      "91216          389        934           10         1          14.96   \n",
      "92555          626        934            5         2          28.50   \n",
      "92393          377        934            5         1          14.96   \n",
      "70633         1387        942           13         1          89.05   \n",
      "\n",
      "       other_discount  coupon_discount  rented  income_bracket  brand  ...  \\\n",
      "71256          -89.41           -35.62       0               6    864  ...   \n",
      "91216            0.00             0.00       0               6   1149  ...   \n",
      "92555            0.00             0.00       0               4   1149  ...   \n",
      "92393            0.00             0.00       1               4   1149  ...   \n",
      "70633          -45.95           -35.62       0               1   1183  ...   \n",
      "\n",
      "        19   20   21   22   23   24   25   26   27   28  \n",
      "71256  0.0  0.0  0.0  0.0  0.0  0.0  0.0  0.0  0.0  0.0  \n",
      "91216  0.0  0.0  0.0  1.0  0.0  0.0  0.0  0.0  0.0  0.0  \n",
      "92555  0.0  0.0  0.0  1.0  0.0  0.0  0.0  0.0  0.0  0.0  \n",
      "92393  0.0  0.0  0.0  1.0  0.0  0.0  0.0  0.0  0.0  0.0  \n",
      "70633  0.0  0.0  0.0  0.0  0.0  0.0  0.0  0.0  0.0  0.0  \n",
      "\n",
      "[5 rows x 40 columns]\n"
     ]
    }
   ],
   "source": [
    "a_index = X_with_encodings.set_index(['customer_id','coupon_id']).index\n",
    "b_index = test.set_index(['customer_id','coupon_id']).index\n",
    "mask = a_index.isin(b_index)\n",
    "mask_2 = b_index.isin(a_index)\n",
    "test_customer_coupons_in_X_encodings1 = X_with_encodings.loc[mask]\n",
    "ids = test.loc[mask_2]['id']\n",
    "print(ids.shape)\n",
    "test_ids = pd.DataFrame(ids, columns =['id'])\n",
    "\n",
    "#test_customer_coupons_in_X_encodings = pd.concat([test_customer_coupons_in_X_encodings, test_ids], axis=1)\n",
    "\n",
    "print(test_customer_coupons_in_X_encodings1.shape)\n",
    "print(test_customer_coupons_in_X_encodings1.head())"
   ]
  },
  {
   "cell_type": "code",
   "execution_count": 833,
   "metadata": {},
   "outputs": [
    {
     "data": {
      "text/plain": [
       "(4942, 42)"
      ]
     },
     "execution_count": 833,
     "metadata": {},
     "output_type": "execute_result"
    }
   ],
   "source": [
    "test_customer_coupons_in_X_encodings.shape"
   ]
  },
  {
   "cell_type": "code",
   "execution_count": 834,
   "metadata": {},
   "outputs": [
    {
     "data": {
      "text/plain": [
       "(4942, 2)"
      ]
     },
     "execution_count": 834,
     "metadata": {},
     "output_type": "execute_result"
    }
   ],
   "source": [
    "partial = test_customer_coupons_in_X_encodings[['coupon_id', 'customer_id']]\n",
    "partial.shape"
   ]
  },
  {
   "cell_type": "code",
   "execution_count": 835,
   "metadata": {},
   "outputs": [
    {
     "name": "stdout",
     "output_type": "stream",
     "text": [
      "0\n",
      "(4942, 41)\n",
      "<class 'pandas.core.frame.DataFrame'>\n",
      "Int64Index: 4942 entries, 0 to 4941\n",
      "Data columns (total 41 columns):\n",
      "id                 4942 non-null int64\n",
      "campaign_id        4942 non-null int64\n",
      "coupon_id          4942 non-null int64\n",
      "customer_id        4942 non-null int64\n",
      "quantity           4942 non-null int64\n",
      "selling_price      4942 non-null float64\n",
      "other_discount     4942 non-null float64\n",
      "coupon_discount    4942 non-null float64\n",
      "rented             4942 non-null int64\n",
      "income_bracket     4942 non-null int64\n",
      "brand              4942 non-null int64\n",
      "campaign_type      4942 non-null int64\n",
      "0                  4942 non-null float64\n",
      "1                  4942 non-null float64\n",
      "2                  4942 non-null float64\n",
      "3                  4942 non-null float64\n",
      "4                  4942 non-null float64\n",
      "5                  4942 non-null float64\n",
      "6                  4942 non-null float64\n",
      "7                  4942 non-null float64\n",
      "8                  4942 non-null float64\n",
      "9                  4942 non-null float64\n",
      "10                 4942 non-null float64\n",
      "11                 4942 non-null float64\n",
      "12                 4942 non-null float64\n",
      "13                 4942 non-null float64\n",
      "14                 4942 non-null float64\n",
      "15                 4942 non-null float64\n",
      "16                 4942 non-null float64\n",
      "17                 4942 non-null float64\n",
      "18                 4942 non-null float64\n",
      "19                 4942 non-null float64\n",
      "20                 4942 non-null float64\n",
      "21                 4942 non-null float64\n",
      "22                 4942 non-null float64\n",
      "23                 4942 non-null float64\n",
      "24                 4942 non-null float64\n",
      "25                 4942 non-null float64\n",
      "26                 4942 non-null float64\n",
      "27                 4942 non-null float64\n",
      "28                 4942 non-null float64\n",
      "dtypes: float64(32), int64(9)\n",
      "memory usage: 1.6 MB\n"
     ]
    }
   ],
   "source": [
    "common_customer_coupons = test_customer_coupons_in_X_encodings.rename(columns={'campaign_id_x':'campaign_id'})\n",
    "common_set = common_customer_coupons.drop('campaign_id_y',axis=1)\n",
    "#ommon_customer_coupons_imp = common_customer_coupons[[common_customer_coupons['campaign_id']==common_customer_coupons['campaign_id_y']]]\n",
    "print(common_customer_coupons['campaign_id'].isna().sum())\n",
    "print(common_set.shape)\n",
    "common_set.info()"
   ]
  },
  {
   "cell_type": "code",
   "execution_count": 836,
   "metadata": {},
   "outputs": [],
   "source": [
    "from sklearn.impute import SimpleImputer"
   ]
  },
  {
   "cell_type": "code",
   "execution_count": 837,
   "metadata": {},
   "outputs": [
    {
     "data": {
      "text/plain": [
       "0"
      ]
     },
     "execution_count": 837,
     "metadata": {},
     "output_type": "execute_result"
    }
   ],
   "source": [
    "cols_with_nan = [col for col in test_customer_coupons_in_X_encodings.columns if test_customer_coupons_in_X_encodings[col].isnull().any()]\n",
    "len(cols_with_nan)"
   ]
  },
  {
   "cell_type": "code",
   "execution_count": 838,
   "metadata": {},
   "outputs": [],
   "source": [
    "data_to_check = common_set.copy()"
   ]
  },
  {
   "cell_type": "code",
   "execution_count": 839,
   "metadata": {},
   "outputs": [
    {
     "name": "stdout",
     "output_type": "stream",
     "text": [
      "<class 'pandas.core.frame.DataFrame'>\n",
      "Int64Index: 4942 entries, 0 to 4941\n",
      "Data columns (total 41 columns):\n",
      "id                 4942 non-null int64\n",
      "campaign_id        4942 non-null int64\n",
      "coupon_id          4942 non-null int64\n",
      "customer_id        4942 non-null int64\n",
      "quantity           4942 non-null int64\n",
      "selling_price      4942 non-null float64\n",
      "other_discount     4942 non-null float64\n",
      "coupon_discount    4942 non-null float64\n",
      "rented             4942 non-null int64\n",
      "income_bracket     4942 non-null int64\n",
      "brand              4942 non-null int64\n",
      "campaign_type      4942 non-null int64\n",
      "0                  4942 non-null float64\n",
      "1                  4942 non-null float64\n",
      "2                  4942 non-null float64\n",
      "3                  4942 non-null float64\n",
      "4                  4942 non-null float64\n",
      "5                  4942 non-null float64\n",
      "6                  4942 non-null float64\n",
      "7                  4942 non-null float64\n",
      "8                  4942 non-null float64\n",
      "9                  4942 non-null float64\n",
      "10                 4942 non-null float64\n",
      "11                 4942 non-null float64\n",
      "12                 4942 non-null float64\n",
      "13                 4942 non-null float64\n",
      "14                 4942 non-null float64\n",
      "15                 4942 non-null float64\n",
      "16                 4942 non-null float64\n",
      "17                 4942 non-null float64\n",
      "18                 4942 non-null float64\n",
      "19                 4942 non-null float64\n",
      "20                 4942 non-null float64\n",
      "21                 4942 non-null float64\n",
      "22                 4942 non-null float64\n",
      "23                 4942 non-null float64\n",
      "24                 4942 non-null float64\n",
      "25                 4942 non-null float64\n",
      "26                 4942 non-null float64\n",
      "27                 4942 non-null float64\n",
      "28                 4942 non-null float64\n",
      "dtypes: float64(32), int64(9)\n",
      "memory usage: 1.6 MB\n"
     ]
    }
   ],
   "source": [
    "#test_customer_coupons_in_X_encodings.rename(columns={'campaign_id_x':'campaign_id'})\n",
    "test_for_pred = data_to_check.drop(['campaign_id','coupon_id','customer_id','id'],axis=1)\n",
    "test_with_ids = data_to_check[['coupon_id','customer_id','campaign_id','id']] \n",
    "data_to_check.info()"
   ]
  },
  {
   "cell_type": "code",
   "execution_count": 840,
   "metadata": {},
   "outputs": [],
   "source": [
    "\n",
    "def impute(test_for_pred):    \n",
    "    my_imputer = SimpleImputer()\n",
    "    imputed_X_train = pd.DataFrame(my_imputer.fit_transform(test_for_pred))\n",
    "    #imputed_X_valid = pd.DataFrame(my_imputer.transform(X_valid))\n",
    "\n",
    "    # Imputation removed column names; put them back\n",
    "    imputed_X_train.columns = test_for_pred.columns\n",
    "    return imputed_X_train"
   ]
  },
  {
   "cell_type": "code",
   "execution_count": 841,
   "metadata": {},
   "outputs": [],
   "source": [
    "#imputed_X_train = impute(test_for_pred)"
   ]
  },
  {
   "cell_type": "code",
   "execution_count": 842,
   "metadata": {},
   "outputs": [],
   "source": [
    "def numOfNanIn(train):\n",
    "    cols_with_nan = [col for col in train.columns if train[col].isnull().any()]\n",
    "    return len(cols_with_nan)"
   ]
  },
  {
   "cell_type": "code",
   "execution_count": 843,
   "metadata": {},
   "outputs": [
    {
     "name": "stdout",
     "output_type": "stream",
     "text": [
      "0\n"
     ]
    }
   ],
   "source": [
    "print(numOfNanIn(imputed_X_train))"
   ]
  },
  {
   "cell_type": "code",
   "execution_count": 844,
   "metadata": {},
   "outputs": [],
   "source": [
    "pred = clf.predict(imputed_X_train)"
   ]
  },
  {
   "cell_type": "code",
   "execution_count": 845,
   "metadata": {},
   "outputs": [],
   "source": [
    "def createDFOf(pred):\n",
    "    preds = pd.DataFrame(pred, columns=['redemption_status'])\n",
    "    return preds"
   ]
  },
  {
   "cell_type": "code",
   "execution_count": 846,
   "metadata": {},
   "outputs": [
    {
     "data": {
      "text/plain": [
       "(4942, 1)"
      ]
     },
     "execution_count": 846,
     "metadata": {},
     "output_type": "execute_result"
    }
   ],
   "source": [
    "preds = createDFOf(pred)\n",
    "preds.shape"
   ]
  },
  {
   "cell_type": "code",
   "execution_count": 847,
   "metadata": {},
   "outputs": [],
   "source": [
    "def partOfResult(test_with_ids,preds):\n",
    "    part_of_result = pd.concat([test_with_ids,preds],axis=1)\n",
    "    return part_of_result"
   ]
  },
  {
   "cell_type": "code",
   "execution_count": 848,
   "metadata": {},
   "outputs": [
    {
     "data": {
      "text/plain": [
       "(4942, 5)"
      ]
     },
     "execution_count": 848,
     "metadata": {},
     "output_type": "execute_result"
    }
   ],
   "source": [
    "part_of_result = partOfResult(test_with_ids,preds)\n",
    "part_of_result.shape"
   ]
  },
  {
   "cell_type": "code",
   "execution_count": 849,
   "metadata": {},
   "outputs": [
    {
     "data": {
      "text/plain": [
       "(5088, 7)"
      ]
     },
     "execution_count": 849,
     "metadata": {},
     "output_type": "execute_result"
    }
   ],
   "source": [
    "res = pd.merge(test,part_of_result,on=['customer_id','coupon_id'])\n",
    "res.shape"
   ]
  },
  {
   "cell_type": "code",
   "execution_count": 850,
   "metadata": {},
   "outputs": [
    {
     "data": {
      "text/plain": [
       "Index(['id_x', 'campaign_id_x', 'coupon_id', 'customer_id', 'campaign_id_y',\n",
       "       'id_y', 'redemption_status'],\n",
       "      dtype='object')"
      ]
     },
     "execution_count": 850,
     "metadata": {},
     "output_type": "execute_result"
    }
   ],
   "source": [
    "res.columns"
   ]
  },
  {
   "cell_type": "code",
   "execution_count": 851,
   "metadata": {},
   "outputs": [
    {
     "data": {
      "text/plain": [
       "(4964, 7)"
      ]
     },
     "execution_count": 851,
     "metadata": {},
     "output_type": "execute_result"
    }
   ],
   "source": [
    "subset = res[res.campaign_id_x == res.campaign_id_y]\n",
    "subset.shape"
   ]
  },
  {
   "cell_type": "code",
   "execution_count": 852,
   "metadata": {},
   "outputs": [],
   "source": [
    "result_1 = subset[['id_x','redemption_status']]"
   ]
  },
  {
   "cell_type": "code",
   "execution_count": 853,
   "metadata": {},
   "outputs": [],
   "source": [
    "result0 = result_1.rename(columns={'id_x':'id'})"
   ]
  },
  {
   "cell_type": "code",
   "execution_count": 854,
   "metadata": {},
   "outputs": [
    {
     "data": {
      "text/plain": [
       "(4964, 2)"
      ]
     },
     "execution_count": 854,
     "metadata": {},
     "output_type": "execute_result"
    }
   ],
   "source": [
    "result0.shape"
   ]
  },
  {
   "cell_type": "code",
   "execution_count": 855,
   "metadata": {},
   "outputs": [
    {
     "data": {
      "text/plain": [
       "0    4035\n",
       "1     929\n",
       "Name: redemption_status, dtype: int64"
      ]
     },
     "execution_count": 855,
     "metadata": {},
     "output_type": "execute_result"
    }
   ],
   "source": [
    "result0['redemption_status'].value_counts()"
   ]
  },
  {
   "cell_type": "code",
   "execution_count": 856,
   "metadata": {},
   "outputs": [],
   "source": [
    "result0.to_csv('partial_submission.csv')"
   ]
  },
  {
   "cell_type": "code",
   "execution_count": 857,
   "metadata": {},
   "outputs": [],
   "source": [
    "\n",
    "sub = subset.rename(columns={'id_x':'id','campaign_id_x':'campaign_id'})"
   ]
  },
  {
   "cell_type": "code",
   "execution_count": 858,
   "metadata": {},
   "outputs": [
    {
     "data": {
      "text/plain": [
       "(49840, 4)"
      ]
     },
     "execution_count": 858,
     "metadata": {},
     "output_type": "execute_result"
    }
   ],
   "source": [
    "index_a = test.set_index(['customer_id','coupon_id','campaign_id','id']).index\n",
    "index_b = subset.set_index(['customer_id','coupon_id','campaign_id_y','id_y']).index\n",
    "#index_c = X_with_encodings.set_index(['customer_id','coupon_id','campaign_id','id']).index\n",
    "mask = ~index_a.isin(index_b)\n",
    "\n",
    "#mask2= ~index_a.isin(index_c)\n",
    "#mask3= ~index_c.isin(index_a)\n",
    "\n",
    "partial_test = test.loc[mask]\n",
    "#partial_train = X_with_encodings.loc[mask3]\n",
    "partial_test.shape"
   ]
  },
  {
   "cell_type": "code",
   "execution_count": 859,
   "metadata": {},
   "outputs": [
    {
     "data": {
      "text/plain": [
       "Index(['id', 'campaign_id', 'coupon_id', 'customer_id'], dtype='object')"
      ]
     },
     "execution_count": 859,
     "metadata": {},
     "output_type": "execute_result"
    }
   ],
   "source": [
    "partial_test.columns"
   ]
  },
  {
   "cell_type": "code",
   "execution_count": 860,
   "metadata": {},
   "outputs": [
    {
     "data": {
      "text/plain": [
       "(2160, 40)"
      ]
     },
     "execution_count": 860,
     "metadata": {},
     "output_type": "execute_result"
    }
   ],
   "source": [
    "reducedX = X_with_encodings.drop_duplicates(subset=['customer_id','campaign_id'])\n",
    "reducedX.shape"
   ]
  },
  {
   "cell_type": "code",
   "execution_count": 861,
   "metadata": {},
   "outputs": [
    {
     "data": {
      "text/plain": [
       "(5283067, 5)"
      ]
     },
     "execution_count": 861,
     "metadata": {},
     "output_type": "execute_result"
    }
   ],
   "source": [
    "m1 = pd.merge(partial_test,X_customers_campaign,on=['customer_id'])\n",
    "m1.shape"
   ]
  },
  {
   "cell_type": "code",
   "execution_count": 862,
   "metadata": {},
   "outputs": [
    {
     "data": {
      "text/plain": [
       "(101716, 43)"
      ]
     },
     "execution_count": 862,
     "metadata": {},
     "output_type": "execute_result"
    }
   ],
   "source": [
    "m1 = pd.merge(partial_test,reducedX,on=['customer_id'])\n",
    "m1.shape"
   ]
  },
  {
   "cell_type": "code",
   "execution_count": 863,
   "metadata": {},
   "outputs": [
    {
     "data": {
      "text/plain": [
       "(46784, 43)"
      ]
     },
     "execution_count": 863,
     "metadata": {},
     "output_type": "execute_result"
    }
   ],
   "source": [
    "index_a = m1.set_index(['customer_id']).index\n",
    "index_b = subset.set_index(['customer_id']).index\n",
    "#index_c = X_with_encodings.set_index(['customer_id','coupon_id','campaign_id','id']).index\n",
    "mask = ~index_a.isin(index_b)\n",
    "\n",
    "#mask2= ~index_a.isin(index_c)\n",
    "#mask3= ~index_c.isin(index_a)\n",
    "\n",
    "partial_test1 = m1.loc[mask]\n",
    "#partial_train = X_with_encodings.loc[mask3]\n",
    "partial_test1.shape"
   ]
  },
  {
   "cell_type": "code",
   "execution_count": 864,
   "metadata": {},
   "outputs": [],
   "source": [
    "m1 = partial_test1.copy()"
   ]
  },
  {
   "cell_type": "code",
   "execution_count": 865,
   "metadata": {},
   "outputs": [
    {
     "name": "stdout",
     "output_type": "stream",
     "text": [
      "0\n"
     ]
    }
   ],
   "source": [
    "print(numOfNanIn(m1))"
   ]
  },
  {
   "cell_type": "code",
   "execution_count": 866,
   "metadata": {},
   "outputs": [
    {
     "data": {
      "text/plain": [
       "Index([             'id',   'campaign_id_x',     'coupon_id_x',\n",
       "           'customer_id',     'coupon_id_y',   'campaign_id_y',\n",
       "              'quantity',   'selling_price',  'other_discount',\n",
       "       'coupon_discount',          'rented',  'income_bracket',\n",
       "                 'brand',   'campaign_type',                 0,\n",
       "                       1,                 2,                 3,\n",
       "                       4,                 5,                 6,\n",
       "                       7,                 8,                 9,\n",
       "                      10,                11,                12,\n",
       "                      13,                14,                15,\n",
       "                      16,                17,                18,\n",
       "                      19,                20,                21,\n",
       "                      22,                23,                24,\n",
       "                      25,                26,                27,\n",
       "                      28],\n",
       "      dtype='object')"
      ]
     },
     "execution_count": 866,
     "metadata": {},
     "output_type": "execute_result"
    }
   ],
   "source": [
    "m1.columns"
   ]
  },
  {
   "cell_type": "code",
   "execution_count": 867,
   "metadata": {},
   "outputs": [],
   "source": [
    "test_pred = m1.drop(['campaign_id_x','coupon_id_x','customer_id','id','coupon_id_y','campaign_id_y'],axis=1)\n",
    "test_with_ids = m1[['coupon_id_x','customer_id','campaign_id_x','id']] "
   ]
  },
  {
   "cell_type": "code",
   "execution_count": 868,
   "metadata": {},
   "outputs": [
    {
     "data": {
      "text/html": [
       "<div>\n",
       "<style scoped>\n",
       "    .dataframe tbody tr th:only-of-type {\n",
       "        vertical-align: middle;\n",
       "    }\n",
       "\n",
       "    .dataframe tbody tr th {\n",
       "        vertical-align: top;\n",
       "    }\n",
       "\n",
       "    .dataframe thead th {\n",
       "        text-align: right;\n",
       "    }\n",
       "</style>\n",
       "<table border=\"1\" class=\"dataframe\">\n",
       "  <thead>\n",
       "    <tr style=\"text-align: right;\">\n",
       "      <th></th>\n",
       "      <th>coupon_id_x</th>\n",
       "      <th>customer_id</th>\n",
       "      <th>campaign_id_x</th>\n",
       "      <th>id</th>\n",
       "    </tr>\n",
       "  </thead>\n",
       "  <tbody>\n",
       "    <tr>\n",
       "      <td>1132</td>\n",
       "      <td>1069</td>\n",
       "      <td>361</td>\n",
       "      <td>25</td>\n",
       "      <td>8</td>\n",
       "    </tr>\n",
       "    <tr>\n",
       "      <td>1133</td>\n",
       "      <td>1069</td>\n",
       "      <td>361</td>\n",
       "      <td>25</td>\n",
       "      <td>8</td>\n",
       "    </tr>\n",
       "    <tr>\n",
       "      <td>1134</td>\n",
       "      <td>596</td>\n",
       "      <td>361</td>\n",
       "      <td>25</td>\n",
       "      <td>679</td>\n",
       "    </tr>\n",
       "    <tr>\n",
       "      <td>1135</td>\n",
       "      <td>596</td>\n",
       "      <td>361</td>\n",
       "      <td>25</td>\n",
       "      <td>679</td>\n",
       "    </tr>\n",
       "    <tr>\n",
       "      <td>1136</td>\n",
       "      <td>612</td>\n",
       "      <td>361</td>\n",
       "      <td>25</td>\n",
       "      <td>5354</td>\n",
       "    </tr>\n",
       "  </tbody>\n",
       "</table>\n",
       "</div>"
      ],
      "text/plain": [
       "      coupon_id_x  customer_id  campaign_id_x    id\n",
       "1132         1069          361             25     8\n",
       "1133         1069          361             25     8\n",
       "1134          596          361             25   679\n",
       "1135          596          361             25   679\n",
       "1136          612          361             25  5354"
      ]
     },
     "execution_count": 868,
     "metadata": {},
     "output_type": "execute_result"
    }
   ],
   "source": [
    "test_with_ids.head()"
   ]
  },
  {
   "cell_type": "code",
   "execution_count": 869,
   "metadata": {},
   "outputs": [],
   "source": [
    "imputed = impute(test_pred)"
   ]
  },
  {
   "cell_type": "code",
   "execution_count": 870,
   "metadata": {},
   "outputs": [],
   "source": [
    "prediction = clf.predict(imputed)"
   ]
  },
  {
   "cell_type": "code",
   "execution_count": 871,
   "metadata": {},
   "outputs": [],
   "source": [
    " pred_df = createDFOf(prediction)"
   ]
  },
  {
   "cell_type": "code",
   "execution_count": 872,
   "metadata": {},
   "outputs": [
    {
     "data": {
      "text/html": [
       "<div>\n",
       "<style scoped>\n",
       "    .dataframe tbody tr th:only-of-type {\n",
       "        vertical-align: middle;\n",
       "    }\n",
       "\n",
       "    .dataframe tbody tr th {\n",
       "        vertical-align: top;\n",
       "    }\n",
       "\n",
       "    .dataframe thead th {\n",
       "        text-align: right;\n",
       "    }\n",
       "</style>\n",
       "<table border=\"1\" class=\"dataframe\">\n",
       "  <thead>\n",
       "    <tr style=\"text-align: right;\">\n",
       "      <th></th>\n",
       "      <th>redemption_status</th>\n",
       "    </tr>\n",
       "  </thead>\n",
       "  <tbody>\n",
       "    <tr>\n",
       "      <td>0</td>\n",
       "      <td>0</td>\n",
       "    </tr>\n",
       "    <tr>\n",
       "      <td>1</td>\n",
       "      <td>0</td>\n",
       "    </tr>\n",
       "    <tr>\n",
       "      <td>2</td>\n",
       "      <td>0</td>\n",
       "    </tr>\n",
       "    <tr>\n",
       "      <td>3</td>\n",
       "      <td>0</td>\n",
       "    </tr>\n",
       "    <tr>\n",
       "      <td>4</td>\n",
       "      <td>0</td>\n",
       "    </tr>\n",
       "  </tbody>\n",
       "</table>\n",
       "</div>"
      ],
      "text/plain": [
       "   redemption_status\n",
       "0                  0\n",
       "1                  0\n",
       "2                  0\n",
       "3                  0\n",
       "4                  0"
      ]
     },
     "execution_count": 872,
     "metadata": {},
     "output_type": "execute_result"
    }
   ],
   "source": [
    "pred_df.head()"
   ]
  },
  {
   "cell_type": "code",
   "execution_count": 873,
   "metadata": {},
   "outputs": [
    {
     "data": {
      "text/plain": [
       "(46784, 5)"
      ]
     },
     "execution_count": 873,
     "metadata": {},
     "output_type": "execute_result"
    }
   ],
   "source": [
    "#res = pd.merge(test_with_ids,pred_df,axis=1)\n",
    "res = test_with_ids.join(pred_df)\n",
    "#res = partOfResult(test_with_ids,pred_df)\n",
    "res.shape"
   ]
  },
  {
   "cell_type": "code",
   "execution_count": 874,
   "metadata": {},
   "outputs": [
    {
     "data": {
      "text/plain": [
       "(46784, 5)"
      ]
     },
     "execution_count": 874,
     "metadata": {},
     "output_type": "execute_result"
    }
   ],
   "source": [
    "index_a = res.set_index(['id']).index\n",
    "index_b = test.set_index(['id']).index\n",
    "#index_c = X_with_encodings.set_index(['customer_id','coupon_id','campaign_id','id']).index\n",
    "mask = index_a.isin(index_b)\n",
    "\n",
    "#mask2= ~index_a.isin(index_c)\n",
    "#mask3= ~index_c.isin(index_a)\n",
    "\n",
    "partial_test_1 = res.loc[mask]\n",
    "#partial_train = X_with_encodings.loc[mask3]\n",
    "partial_test_1.shape"
   ]
  },
  {
   "cell_type": "code",
   "execution_count": 875,
   "metadata": {},
   "outputs": [
    {
     "data": {
      "text/plain": [
       "(46784, 2)"
      ]
     },
     "execution_count": 875,
     "metadata": {},
     "output_type": "execute_result"
    }
   ],
   "source": [
    "final_final = res[['id','redemption_status']]\n",
    "final_final.shape"
   ]
  },
  {
   "cell_type": "code",
   "execution_count": 876,
   "metadata": {},
   "outputs": [],
   "source": [
    "combined = pd.concat([result0,final_final])"
   ]
  },
  {
   "cell_type": "code",
   "execution_count": 877,
   "metadata": {},
   "outputs": [
    {
     "data": {
      "text/plain": [
       "(51748, 2)"
      ]
     },
     "execution_count": 877,
     "metadata": {},
     "output_type": "execute_result"
    }
   ],
   "source": [
    "combined.shape"
   ]
  },
  {
   "cell_type": "code",
   "execution_count": 878,
   "metadata": {},
   "outputs": [
    {
     "data": {
      "text/plain": [
       "(33714, 5)"
      ]
     },
     "execution_count": 878,
     "metadata": {},
     "output_type": "execute_result"
    }
   ],
   "source": [
    "new = test.merge(combined,how='left',on=['id'], indicator=True) # adds a new column '_merge'\n",
    "new = new[(new['_merge']=='left_only')].copy() #rows only in df1 and not df2\n",
    "new = new.drop(columns='_merge').copy()\n",
    "new.shape"
   ]
  },
  {
   "cell_type": "code",
   "execution_count": 879,
   "metadata": {},
   "outputs": [],
   "source": [
    "c = combined.drop_duplicates(subset=['id'])"
   ]
  },
  {
   "cell_type": "code",
   "execution_count": 880,
   "metadata": {},
   "outputs": [
    {
     "name": "stdout",
     "output_type": "stream",
     "text": [
      "(16512, 4)\n"
     ]
    }
   ],
   "source": [
    "a_index = test.set_index(['id']).index\n",
    "b_index = c.set_index(['id']).index\n",
    "mask = a_index.isin(b_index)\n",
    "partial_test_1 = test.loc[mask]\n",
    "print(partial_test_1.shape)"
   ]
  },
  {
   "cell_type": "code",
   "execution_count": 881,
   "metadata": {},
   "outputs": [
    {
     "data": {
      "text/plain": [
       "(51748, 5)"
      ]
     },
     "execution_count": 881,
     "metadata": {},
     "output_type": "execute_result"
    }
   ],
   "source": [
    "df = pd.merge(partial_test_1,combined,on=['id'],how='left')\n",
    "df.shape"
   ]
  },
  {
   "cell_type": "code",
   "execution_count": 882,
   "metadata": {},
   "outputs": [
    {
     "data": {
      "text/plain": [
       "(16512, 5)"
      ]
     },
     "execution_count": 882,
     "metadata": {},
     "output_type": "execute_result"
    }
   ],
   "source": [
    "dropped = df.drop_duplicates(subset = ['id'])\n",
    "dropped.shape"
   ]
  },
  {
   "cell_type": "code",
   "execution_count": 883,
   "metadata": {},
   "outputs": [
    {
     "data": {
      "text/plain": [
       "(16512, 2)"
      ]
     },
     "execution_count": 883,
     "metadata": {},
     "output_type": "execute_result"
    }
   ],
   "source": [
    "submission = dropped[['id','redemption_status']]\n",
    "submission.shape"
   ]
  },
  {
   "cell_type": "code",
   "execution_count": 884,
   "metadata": {},
   "outputs": [
    {
     "data": {
      "text/plain": [
       "Index(['coupon_id_x', 'customer_id', 'campaign_id_x', 'id',\n",
       "       'redemption_status'],\n",
       "      dtype='object')"
      ]
     },
     "execution_count": 884,
     "metadata": {},
     "output_type": "execute_result"
    }
   ],
   "source": [
    "res.columns"
   ]
  },
  {
   "cell_type": "code",
   "execution_count": 885,
   "metadata": {},
   "outputs": [],
   "source": [
    "subset_s = sub[['id','customer_id','redemption_status']]\n",
    "res_s = res[['id','customer_id','redemption_status']]"
   ]
  },
  {
   "cell_type": "code",
   "execution_count": 886,
   "metadata": {},
   "outputs": [],
   "source": [
    "dropped1 = subset_s.drop_duplicates(subset = ['id'])\n",
    "dropped2 = res_s.drop_duplicates(subset = ['id'])"
   ]
  },
  {
   "cell_type": "code",
   "execution_count": 887,
   "metadata": {},
   "outputs": [
    {
     "data": {
      "text/plain": [
       "(16512, 3)"
      ]
     },
     "execution_count": 887,
     "metadata": {},
     "output_type": "execute_result"
    }
   ],
   "source": [
    "checker = pd.concat([dropped1,dropped2])\n",
    "checker.shape"
   ]
  },
  {
   "cell_type": "code",
   "execution_count": 888,
   "metadata": {},
   "outputs": [
    {
     "name": "stdout",
     "output_type": "stream",
     "text": [
      "(33714, 4)\n"
     ]
    }
   ],
   "source": [
    "a_index = test.set_index(['id']).index\n",
    "b_index = checker.set_index(['id']).index\n",
    "mask = ~a_index.isin(b_index)\n",
    "remaining_in_test_final = test.loc[mask]\n",
    "print(remaining_in_test_final.shape)"
   ]
  },
  {
   "cell_type": "code",
   "execution_count": 889,
   "metadata": {},
   "outputs": [],
   "source": [
    "dict2 = zip(checker['customer_id'],checker['redemption_status'])\n",
    "df = remaining_in_test_final.copy()"
   ]
  },
  {
   "cell_type": "code",
   "execution_count": 890,
   "metadata": {},
   "outputs": [],
   "source": [
    "#df = remaining_in_test_final.copy()\n",
    "df['redemption_status'] = np.zeros(len(df))\n",
    "for key,val in dict2:\n",
    "    df.loc[df['customer_id']==key, 'redemption_status'] = val \n",
    "    df.loc[df['customer_id']!=key, 'redemption_status'] = [0]"
   ]
  },
  {
   "cell_type": "code",
   "execution_count": 891,
   "metadata": {},
   "outputs": [],
   "source": [
    "#for i in range(len(remaining_in_test_final)):\n",
    "\n",
    "#df.loc[df['customer_id'].isin([checker['customer_id']]),'redemption_status'] = checker['redemption_status']\n",
    "#df.loc[df['customer_id'].isin([checker['customer_id']]),'redemption_status'] = [0]"
   ]
  },
  {
   "cell_type": "code",
   "execution_count": 892,
   "metadata": {},
   "outputs": [],
   "source": [
    "submit2 = df[['id','redemption_status']]"
   ]
  },
  {
   "cell_type": "code",
   "execution_count": 893,
   "metadata": {},
   "outputs": [
    {
     "data": {
      "text/plain": [
       "(50226, 2)"
      ]
     },
     "execution_count": 893,
     "metadata": {},
     "output_type": "execute_result"
    }
   ],
   "source": [
    "submission_final = pd.concat([submission,submit2])\n",
    "submission_final.shape"
   ]
  },
  {
   "cell_type": "code",
   "execution_count": 894,
   "metadata": {},
   "outputs": [
    {
     "name": "stdout",
     "output_type": "stream",
     "text": [
      "1\n"
     ]
    }
   ],
   "source": [
    "print(numOfNanIn(submission_final))"
   ]
  },
  {
   "cell_type": "code",
   "execution_count": 895,
   "metadata": {},
   "outputs": [],
   "source": [
    "submission_final['redemption_status'].fillna(value=0, inplace=True)"
   ]
  },
  {
   "cell_type": "code",
   "execution_count": 896,
   "metadata": {},
   "outputs": [
    {
     "name": "stdout",
     "output_type": "stream",
     "text": [
      "0\n"
     ]
    }
   ],
   "source": [
    "print(numOfNanIn(submission_final))"
   ]
  },
  {
   "cell_type": "code",
   "execution_count": 898,
   "metadata": {},
   "outputs": [],
   "source": [
    "submission_final.to_csv('./Desktop/sub.csv')"
   ]
  },
  {
   "cell_type": "code",
   "execution_count": null,
   "metadata": {},
   "outputs": [],
   "source": []
  }
 ],
 "metadata": {
  "kernelspec": {
   "display_name": "Python 3",
   "language": "python",
   "name": "python3"
  },
  "language_info": {
   "codemirror_mode": {
    "name": "ipython",
    "version": 3
   },
   "file_extension": ".py",
   "mimetype": "text/x-python",
   "name": "python",
   "nbconvert_exporter": "python",
   "pygments_lexer": "ipython3",
   "version": "3.7.3"
  }
 },
 "nbformat": 4,
 "nbformat_minor": 2
}
