{
  "nbformat": 4,
  "nbformat_minor": 0,
  "metadata": {
    "colab": {
      "name": "ReviewAnalysisWithfastText.ipynb",
      "provenance": [],
      "include_colab_link": true
    },
    "kernelspec": {
      "name": "python3",
      "display_name": "Python 3"
    }
  },
  "cells": [
    {
      "cell_type": "markdown",
      "metadata": {
        "id": "view-in-github",
        "colab_type": "text"
      },
      "source": [
        "<a href=\"https://colab.research.google.com/github/PoonamPatwardhan/DemoML/blob/master/ReviewAnalysisWithfastText.ipynb\" target=\"_parent\"><img src=\"https://colab.research.google.com/assets/colab-badge.svg\" alt=\"Open In Colab\"/></a>"
      ]
    },
    {
      "cell_type": "code",
      "metadata": {
        "id": "HmVGclXyJixT",
        "colab_type": "code",
        "colab": {}
      },
      "source": [
        "!wget https://github.com/facebookresearch/fastText/archive/0.2.0.zip\n",
        "!unzip 0.2.0.zip\n",
        "%cd fastText-0.2.0\n",
        "!make"
      ],
      "execution_count": 0,
      "outputs": []
    },
    {
      "cell_type": "code",
      "metadata": {
        "id": "ctjYaZ2CfFiJ",
        "colab_type": "code",
        "outputId": "bddc0a1b-8474-49cd-bf7d-bc60c20683d9",
        "colab": {
          "base_uri": "https://localhost:8080/",
          "height": 88
        }
      },
      "source": [
        "!pip install fasttext"
      ],
      "execution_count": 0,
      "outputs": [
        {
          "output_type": "stream",
          "text": [
            "Requirement already satisfied: fasttext in /usr/local/lib/python3.6/dist-packages (0.9.1)\n",
            "Requirement already satisfied: setuptools>=0.7.0 in /usr/local/lib/python3.6/dist-packages (from fasttext) (41.2.0)\n",
            "Requirement already satisfied: pybind11>=2.2 in /usr/local/lib/python3.6/dist-packages (from fasttext) (2.4.3)\n",
            "Requirement already satisfied: numpy in /usr/local/lib/python3.6/dist-packages (from fasttext) (1.16.5)\n"
          ],
          "name": "stdout"
        }
      ]
    },
    {
      "cell_type": "code",
      "metadata": {
        "id": "w0TjB0GKKt7g",
        "colab_type": "code",
        "colab": {}
      },
      "source": [
        "import csv\n",
        "from pathlib import Path\n",
        "import random\n",
        "import re\n",
        "\n",
        "reviews_data = Path('drugsComTest_raw.csv')\n",
        "training_data = Path(\"fasttext_dataset_training.txt\")\n",
        "test_data = Path(\"fasttext_dataset_test.txt\")\n",
        "\n",
        "# What percent of data to save separately as test data\n",
        "percent_test_data = 0.10\n",
        "\n",
        "def correct_format(string):\n",
        "    string = string.lower()\n",
        "    string = re.sub(r\"([.!?,'/()])\", r\" \\1 \", string)\n",
        "    return string\n",
        "\n",
        "with reviews_data.open() as input, training_data.open(\"w\") as train_output, test_data.open(\"w\") as test_output:\n",
        "    review_data = csv.DictReader(input)\n",
        "    for row in review_data:\n",
        "        rating = row['rating']\n",
        "        text = row['review'].replace(\"\\n\", \" \")\n",
        "        text = correct_format(text)\n",
        "\n",
        "        fasttext_line = \"__label__{} {}\".format(rating, text)\n",
        "        \n",
        "        if random.random() <= percent_test_data:\n",
        "            test_output.write(fasttext_line + \"\\n\")\n",
        "        else:\n",
        "            train_output.write(fasttext_line + \"\\n\")"
      ],
      "execution_count": 0,
      "outputs": []
    },
    {
      "cell_type": "code",
      "metadata": {
        "id": "Jxcku4CffyRL",
        "colab_type": "code",
        "colab": {}
      },
      "source": [
        "import fasttext\n",
        "\n",
        "model = fasttext.train_supervised('fasttext_dataset_training.txt')"
      ],
      "execution_count": 0,
      "outputs": []
    },
    {
      "cell_type": "code",
      "metadata": {
        "id": "21bmuOXeMqEn",
        "colab_type": "code",
        "outputId": "82e79a7d-7039-4c7b-95b1-f38f163d51ee",
        "colab": {
          "base_uri": "https://localhost:8080/",
          "height": 35
        }
      },
      "source": [
        "#import fasttext\n",
        "#!fasttext supervised -input fasttext_dataset_training.txt -output reviews_model "
      ],
      "execution_count": 0,
      "outputs": [
        {
          "output_type": "stream",
          "text": [
            "/bin/bash: fasttext: command not found\n"
          ],
          "name": "stdout"
        }
      ]
    },
    {
      "cell_type": "code",
      "metadata": {
        "id": "s_0aVKuPRUhE",
        "colab_type": "code",
        "outputId": "03c7a875-9b6e-4757-e48e-55c6cdb25dbf",
        "colab": {
          "base_uri": "https://localhost:8080/",
          "height": 70
        }
      },
      "source": [
        "def print_results(N, p, r):\n",
        "    print(\"N\\t\" + str(N))\n",
        "    print(\"P@{}\\t{:.3f}\".format(1, p))\n",
        "    print(\"R@{}\\t{:.3f}\".format(1, r))\n",
        "\n",
        "print_results(*model.test('fasttext_dataset_test.txt'))"
      ],
      "execution_count": 0,
      "outputs": [
        {
          "output_type": "stream",
          "text": [
            "N\t5359\n",
            "P@1\t0.426\n",
            "R@1\t0.426\n"
          ],
          "name": "stdout"
        }
      ]
    },
    {
      "cell_type": "code",
      "metadata": {
        "id": "WdvFYU9XgdZU",
        "colab_type": "code",
        "outputId": "236b46b2-1248-46fd-a43a-21d7403e0b2b",
        "colab": {
          "base_uri": "https://localhost:8080/",
          "height": 35
        }
      },
      "source": [
        "model.predict(\"issues, cannot eat properly\")"
      ],
      "execution_count": 0,
      "outputs": [
        {
          "output_type": "execute_result",
          "data": {
            "text/plain": [
              "(('__label__1',), array([0.55421871]))"
            ]
          },
          "metadata": {
            "tags": []
          },
          "execution_count": 34
        }
      ]
    },
    {
      "cell_type": "code",
      "metadata": {
        "id": "83866SCBg7My",
        "colab_type": "code",
        "colab": {}
      },
      "source": [
        ""
      ],
      "execution_count": 0,
      "outputs": []
    }
  ]
}